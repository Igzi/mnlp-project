{
 "cells": [
  {
   "cell_type": "code",
   "execution_count": 1,
   "id": "e9f72059-c935-4827-bc8f-fbdb81af8e7b",
   "metadata": {},
   "outputs": [],
   "source": [
    "from datasets import load_dataset, DatasetDict, concatenate_datasets, Dataset"
   ]
  },
  {
   "cell_type": "code",
   "execution_count": 46,
   "id": "38d44e85-121f-41ea-9abe-4b309e1353d6",
   "metadata": {},
   "outputs": [],
   "source": [
    "stem_categories = [\n",
    "    \"math\",\n",
    "    \"engineering\"\n",
    "    \"computer science\",\n",
    "]\n",
    "\n",
    "# Load MMLU-Pro dataset (all splits: train, validation, test)\n",
    "dataset = load_dataset(\"TIGER-Lab/MMLU-Pro\")\n",
    "\n",
    "# Function to filter STEM categories\n",
    "def filter_stem(example):\n",
    "    return example['category'] in stem_categories\n",
    "\n",
    "# Apply the filter to each split\n",
    "stem_dataset = DatasetDict()\n",
    "for split in dataset.keys():\n",
    "    stem_dataset[split] = dataset[split].filter(filter_stem)"
   ]
  },
  {
   "cell_type": "code",
   "execution_count": 47,
   "id": "a2087c86-34c7-4198-aa8f-c54c6bb84f7c",
   "metadata": {},
   "outputs": [
    {
     "data": {
      "application/vnd.jupyter.widget-view+json": {
       "model_id": "e62e4408d60c4ef7ac71c519f21c5b90",
       "version_major": 2,
       "version_minor": 0
      },
      "text/plain": [
       "Saving the dataset (0/1 shards):   0%|          | 0/1351 [00:00<?, ? examples/s]"
      ]
     },
     "metadata": {},
     "output_type": "display_data"
    },
    {
     "data": {
      "application/vnd.jupyter.widget-view+json": {
       "model_id": "0771c9773afd45a3b5e1b189921634e3",
       "version_major": 2,
       "version_minor": 0
      },
      "text/plain": [
       "Saving the dataset (0/1 shards):   0%|          | 0/5 [00:00<?, ? examples/s]"
      ]
     },
     "metadata": {},
     "output_type": "display_data"
    }
   ],
   "source": [
    "stem_dataset.save_to_disk(\"mmlu-pro-stem\")"
   ]
  },
  {
   "cell_type": "code",
   "execution_count": 48,
   "id": "ba43a39f-6cc4-40ed-9590-efdb0f32b8bc",
   "metadata": {},
   "outputs": [
    {
     "data": {
      "application/vnd.jupyter.widget-view+json": {
       "model_id": "a11b0661137448668fe3ad96a65b6d65",
       "version_major": 2,
       "version_minor": 0
      },
      "text/plain": [
       "Uploading the dataset shards:   0%|          | 0/1 [00:00<?, ?it/s]"
      ]
     },
     "metadata": {},
     "output_type": "display_data"
    },
    {
     "data": {
      "application/vnd.jupyter.widget-view+json": {
       "model_id": "3d46b2384a7241218c16dd5f24989ce9",
       "version_major": 2,
       "version_minor": 0
      },
      "text/plain": [
       "Creating parquet from Arrow format:   0%|          | 0/2 [00:00<?, ?ba/s]"
      ]
     },
     "metadata": {},
     "output_type": "display_data"
    },
    {
     "data": {
      "application/vnd.jupyter.widget-view+json": {
       "model_id": "900e4977641b41f69b93d93c0f3b04eb",
       "version_major": 2,
       "version_minor": 0
      },
      "text/plain": [
       "Uploading the dataset shards:   0%|          | 0/1 [00:00<?, ?it/s]"
      ]
     },
     "metadata": {},
     "output_type": "display_data"
    },
    {
     "data": {
      "application/vnd.jupyter.widget-view+json": {
       "model_id": "4ce7c664eef441bbbcfbfc29b3e3067d",
       "version_major": 2,
       "version_minor": 0
      },
      "text/plain": [
       "Creating parquet from Arrow format:   0%|          | 0/1 [00:00<?, ?ba/s]"
      ]
     },
     "metadata": {},
     "output_type": "display_data"
    },
    {
     "data": {
      "application/vnd.jupyter.widget-view+json": {
       "model_id": "f52096f6ff8348d8b6c96feb48c56983",
       "version_major": 2,
       "version_minor": 0
      },
      "text/plain": [
       "README.md:   0%|          | 0.00/593 [00:00<?, ?B/s]"
      ]
     },
     "metadata": {},
     "output_type": "display_data"
    },
    {
     "data": {
      "text/plain": [
       "CommitInfo(commit_url='https://huggingface.co/datasets/igzi/mmlu-pro-stem/commit/ef79f091817244cf0b1e420d7a22c6d6a8d00b28', commit_message='Upload dataset', commit_description='', oid='ef79f091817244cf0b1e420d7a22c6d6a8d00b28', pr_url=None, repo_url=RepoUrl('https://huggingface.co/datasets/igzi/mmlu-pro-stem', endpoint='https://huggingface.co', repo_type='dataset', repo_id='igzi/mmlu-pro-stem'), pr_revision=None, pr_num=None)"
      ]
     },
     "execution_count": 48,
     "metadata": {},
     "output_type": "execute_result"
    }
   ],
   "source": [
    "dataset = load_from_disk(\"mmlu-pro-stem\")\n",
    "dataset.push_to_hub(\"igzi/mmlu-pro-stem\")"
   ]
  },
  {
   "cell_type": "code",
   "execution_count": 1,
   "id": "19e1c7b4-900d-41be-85d3-d5dd8772daf6",
   "metadata": {},
   "outputs": [],
   "source": [
    "import json\n",
    "\n",
    "with open('NLP4Education.json', 'r') as f:\n",
    "    data = json.load(f)"
   ]
  },
  {
   "cell_type": "code",
   "execution_count": 2,
   "id": "8a4f777c-bdb6-4682-9695-3824e6b16e0a",
   "metadata": {},
   "outputs": [
    {
     "name": "stdout",
     "output_type": "stream",
     "text": [
      "5175\n"
     ]
    }
   ],
   "source": [
    "print(len(data))"
   ]
  },
  {
   "cell_type": "code",
   "execution_count": 3,
   "id": "65db715b-1663-41cc-9c65-3bb440fc22c8",
   "metadata": {},
   "outputs": [],
   "source": [
    "data_filtered = []\n",
    "for question in data:\n",
    "    answer = question.get(\"mcq_answer_index\")\n",
    "    if (\n",
    "        question.get(\"question_type\") == \"mcq\"\n",
    "        and (\n",
    "            isinstance(answer, int)\n",
    "            or (isinstance(answer, list) and len(answer) == 1)\n",
    "        ) and (\n",
    "            len(question[\"question_options\"]) < 5\n",
    "        )\n",
    "    ):\n",
    "        if isinstance(answer, list):\n",
    "            question[\"mcq_answer_index\"] = answer[0]\n",
    "        data_filtered.append(question)"
   ]
  },
  {
   "cell_type": "code",
   "execution_count": 4,
   "id": "620c6fd4-68c1-435c-b67c-68e3cf647eb8",
   "metadata": {},
   "outputs": [
    {
     "name": "stdout",
     "output_type": "stream",
     "text": [
      "2558\n"
     ]
    }
   ],
   "source": [
    "print(len(data_filtered))"
   ]
  },
  {
   "cell_type": "code",
   "execution_count": 5,
   "id": "91b0cc18-51e7-4cab-9779-840ac6407bcd",
   "metadata": {},
   "outputs": [],
   "source": [
    "from datasets import Dataset\n",
    "from datasets import load_dataset, DatasetDict, concatenate_datasets\n",
    "\n",
    "split_datasets = {\n",
    "    \"train\": []\n",
    "}\n",
    "for question in data_filtered:\n",
    "    split_datasets[\"train\"].append({\n",
    "        \"question\": question[\"question_body\"],\n",
    "        \"choices\": question[\"question_options\"],\n",
    "        \"answer\": question[\"mcq_answer_index\"],\n",
    "    })\n",
    "\n",
    "train_dataset = Dataset.from_list(split_datasets[\"train\"])\n",
    "\n",
    "# Wrap it in a DatasetDict (e.g. with just the 'train' split)\n",
    "nlp4education = DatasetDict({\n",
    "    \"train\": train_dataset\n",
    "})"
   ]
  },
  {
   "cell_type": "code",
   "execution_count": 6,
   "id": "fba9de9a-4571-428a-a3c4-d27dc832fde4",
   "metadata": {},
   "outputs": [
    {
     "data": {
      "application/vnd.jupyter.widget-view+json": {
       "model_id": "5bc68a5f1cf04bd0999b853f152d57bf",
       "version_major": 2,
       "version_minor": 0
      },
      "text/plain": [
       "Saving the dataset (0/1 shards):   0%|          | 0/2558 [00:00<?, ? examples/s]"
      ]
     },
     "metadata": {},
     "output_type": "display_data"
    }
   ],
   "source": [
    "nlp4education.save_to_disk(\"nlp4education\")"
   ]
  },
  {
   "cell_type": "code",
   "execution_count": 7,
   "id": "80555cbc-c870-4f2f-ba85-ba6ae3c7e34f",
   "metadata": {},
   "outputs": [
    {
     "data": {
      "application/vnd.jupyter.widget-view+json": {
       "model_id": "4f58df73529741018c7794ea4c0dcbd5",
       "version_major": 2,
       "version_minor": 0
      },
      "text/plain": [
       "Uploading the dataset shards:   0%|          | 0/1 [00:00<?, ?it/s]"
      ]
     },
     "metadata": {},
     "output_type": "display_data"
    },
    {
     "data": {
      "application/vnd.jupyter.widget-view+json": {
       "model_id": "63668468ea49420d9c871a0ad7c0ea08",
       "version_major": 2,
       "version_minor": 0
      },
      "text/plain": [
       "Creating parquet from Arrow format:   0%|          | 0/3 [00:00<?, ?ba/s]"
      ]
     },
     "metadata": {},
     "output_type": "display_data"
    },
    {
     "data": {
      "text/plain": [
       "CommitInfo(commit_url='https://huggingface.co/datasets/igzi/nlp4education/commit/8073c5d9bcfe01c70eecb39c70e98d80dfe7f817', commit_message='Upload dataset', commit_description='', oid='8073c5d9bcfe01c70eecb39c70e98d80dfe7f817', pr_url=None, repo_url=RepoUrl('https://huggingface.co/datasets/igzi/nlp4education', endpoint='https://huggingface.co', repo_type='dataset', repo_id='igzi/nlp4education'), pr_revision=None, pr_num=None)"
      ]
     },
     "execution_count": 7,
     "metadata": {},
     "output_type": "execute_result"
    }
   ],
   "source": [
    "from datasets import load_from_disk\n",
    "dataset = load_from_disk(\"nlp4education\")\n",
    "dataset.push_to_hub(\"igzi/nlp4education\")"
   ]
  }
 ],
 "metadata": {
  "kernelspec": {
   "display_name": "Python3",
   "language": "python",
   "name": "python3"
  },
  "language_info": {
   "codemirror_mode": {
    "name": "ipython",
    "version": 3
   },
   "file_extension": ".py",
   "mimetype": "text/x-python",
   "name": "python",
   "nbconvert_exporter": "python",
   "pygments_lexer": "ipython3",
   "version": "3.12.8"
  }
 },
 "nbformat": 4,
 "nbformat_minor": 5
}

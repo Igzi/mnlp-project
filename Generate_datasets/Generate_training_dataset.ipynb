{
 "cells": [
  {
   "cell_type": "code",
   "execution_count": 1,
   "id": "01ee9ee2",
   "metadata": {},
   "outputs": [],
   "source": [
    "from datasets import load_dataset, DatasetDict, concatenate_datasets, Dataset\n",
    "\n",
    "mmlu_auxiliary_data = []\n",
    "arc_easy_data = []\n",
    "scienceqa_data = []\n",
    "mathqa_data = []\n",
    "openbookqa_data = []"
   ]
  },
  {
   "cell_type": "code",
   "execution_count": 2,
   "id": "fcd09b65",
   "metadata": {},
   "outputs": [],
   "source": [
    "# List of STEM-related MMLU subsets\n",
    "stem_subsets = [\n",
    "    \"abstract_algebra\",\n",
    "    \"anatomy\",\n",
    "    \"astronomy\",\n",
    "    \"college_biology\",\n",
    "    \"college_chemistry\",\n",
    "    \"college_computer_science\",\n",
    "    \"college_mathematics\",\n",
    "    \"college_physics\",\n",
    "    \"computer_security\",\n",
    "    \"conceptual_physics\",\n",
    "    \"electrical_engineering\",\n",
    "    \"elementary_mathematics\",\n",
    "    \"high_school_biology\",\n",
    "    \"high_school_chemistry\",\n",
    "    \"high_school_computer_science\",\n",
    "    \"high_school_mathematics\",\n",
    "    \"high_school_physics\",\n",
    "    \"high_school_statistics\",\n",
    "    \"machine_learning\",\n",
    "]\n",
    "\n",
    "data = load_dataset(\"kz919/mmlu-auxiliary-train-auto-labelled\", split=\"train\")\n",
    "int_to_char_ans = {0: \"A\", 1: \"B\", 2: \"C\", 3: \"D\"}\n",
    "cnt = 0\n",
    "for data_point in data:\n",
    "    if data_point[\"task\"] not in stem_subsets:\n",
    "        continue\n",
    "    mmlu_auxiliary_data.append({\n",
    "        \"dataset\": \"kz919/mmlu-auxiliary-train-auto-labelled\",\n",
    "        \"id\": f\"mmlu_auxiliary_train_auto_labelled_{cnt}\",\n",
    "        \"question\": data_point[\"question\"],\n",
    "        \"choices\": data_point[\"choices\"],\n",
    "        \"answer\": int_to_char_ans[data_point[\"answer\"]]\n",
    "    })\n",
    "    cnt += 1"
   ]
  },
  {
   "cell_type": "code",
   "execution_count": 3,
   "id": "8ab0f44a",
   "metadata": {},
   "outputs": [],
   "source": [
    "data = load_dataset(\"cais/mmlu\", 'all', split=\"validation\")\n",
    "int_to_char_ans = {0: \"A\", 1: \"B\", 2: \"C\", 3: \"D\"}\n",
    "cnt = 0\n",
    "mmlu_validation_data = []\n",
    "for data_point in data:\n",
    "    if data_point[\"subject\"] not in stem_subsets:\n",
    "        continue\n",
    "    mmlu_validation_data.append({\n",
    "        \"dataset\": \"cais/mmlu\",\n",
    "        \"id\": f\"mmlu_{cnt}\",\n",
    "        \"question\": data_point[\"question\"],\n",
    "        \"choices\": data_point[\"choices\"],\n",
    "        \"answer\": int_to_char_ans[data_point[\"answer\"]]\n",
    "    })\n",
    "    cnt += 1"
   ]
  },
  {
   "cell_type": "code",
   "execution_count": 4,
   "id": "f1d638e3-8c6a-46f7-94e7-9ad77725ee56",
   "metadata": {},
   "outputs": [],
   "source": [
    "data = load_dataset(\"allenai/ai2_arc\", \"ARC-Easy\", split=\"train\")\n",
    "for data_point in data:\n",
    "    arc_easy_data.append({\n",
    "        \"dataset\": \"allenai/ai2_arc\",\n",
    "        \"id\": f\"arc_easy_{data_point['id']}\",\n",
    "        \"question\": data_point[\"question\"],\n",
    "        \"choices\": data_point[\"choices\"][\"text\"],\n",
    "        \"answer\": data_point[\"answerKey\"]\n",
    "    })"
   ]
  },
  {
   "cell_type": "code",
   "execution_count": 5,
   "id": "2ea7480f",
   "metadata": {},
   "outputs": [],
   "source": [
    "data = load_dataset(\"allenai/ai2_arc\", \"ARC-Easy\", split=\"validation\")\n",
    "arc_easy_data_validation = []\n",
    "for data_point in data:\n",
    "    arc_easy_data_validation.append({\n",
    "        \"dataset\": \"allenai/ai2_arc\",\n",
    "        \"id\": f\"arc_easy_{data_point['id']}\",\n",
    "        \"question\": data_point[\"question\"],\n",
    "        \"choices\": data_point[\"choices\"][\"text\"],\n",
    "        \"answer\": data_point[\"answerKey\"]\n",
    "    })"
   ]
  },
  {
   "cell_type": "code",
   "execution_count": 6,
   "id": "f6647343-23d0-4465-927d-410b07bde0a1",
   "metadata": {},
   "outputs": [],
   "source": [
    "data = load_dataset(\"derek-thomas/ScienceQA\", split=\"train\")\n",
    "cnt = 0\n",
    "for data_point in data:\n",
    "    if data_point[\"image\"] is not None or data_point[\"subject\"] != \"natural science\" or data_point[\"task\"] != \"closed choice\":\n",
    "        continue\n",
    "    scienceqa_data.append({\n",
    "        \"dataset\": \"derek-thomas/ScienceQA\",\n",
    "        \"id\": f\"scienceqa_{cnt}\",\n",
    "        \"question\": data_point[\"question\"],\n",
    "        \"choices\": data_point[\"choices\"],\n",
    "        \"answer\": int_to_char_ans[data_point[\"answer\"]]\n",
    "    })\n",
    "    cnt += 1\n",
    "\n",
    "data = load_dataset(\"derek-thomas/ScienceQA\", split=\"test\")\n",
    "cnt = 0\n",
    "for data_point in data:\n",
    "    if data_point[\"image\"] is not None or data_point[\"subject\"] != \"natural science\" or data_point[\"task\"] != \"closed choice\":\n",
    "        continue\n",
    "    scienceqa_data.append({\n",
    "        \"dataset\": \"derek-thomas/ScienceQA\",\n",
    "        \"id\": f\"scienceqa_{cnt}\",\n",
    "        \"question\": data_point[\"question\"],\n",
    "        \"choices\": data_point[\"choices\"],\n",
    "        \"answer\": int_to_char_ans[data_point[\"answer\"]]\n",
    "    })\n",
    "    cnt += 1"
   ]
  },
  {
   "cell_type": "code",
   "execution_count": 7,
   "id": "e0998ded",
   "metadata": {},
   "outputs": [],
   "source": [
    "data = load_dataset(\"derek-thomas/ScienceQA\", split=\"validation\")\n",
    "cnt = 0\n",
    "scienceqa_data_validation = []\n",
    "for data_point in data:\n",
    "    if data_point[\"image\"] is not None or data_point[\"subject\"] != \"natural science\" or data_point[\"task\"] != \"closed choice\":\n",
    "        continue\n",
    "    scienceqa_data_validation.append({\n",
    "        \"dataset\": \"derek-thomas/ScienceQA\",\n",
    "        \"id\": f\"scienceqa_{cnt}\",\n",
    "        \"question\": data_point[\"question\"],\n",
    "        \"choices\": data_point[\"choices\"],\n",
    "        \"answer\": int_to_char_ans[data_point[\"answer\"]]\n",
    "    })\n",
    "    cnt += 1"
   ]
  },
  {
   "cell_type": "code",
   "execution_count": 8,
   "id": "a1980068-47af-4cc6-993b-27c9a48a6095",
   "metadata": {},
   "outputs": [],
   "source": [
    "import re\n",
    "\n",
    "data = load_dataset(\"allenai/math_qa\", split=\"train\")\n",
    "cnt = 0\n",
    "char_to_char_ans = {\n",
    "    'a': \"A\",\n",
    "    'b': \"B\",\n",
    "    'c': \"C\",\n",
    "    'd': \"D\",\n",
    "    'e': \"E\"\n",
    "}\n",
    "\n",
    "def extract_choices(choices_str):\n",
    "    matches = re.findall(r'[a-e]\\s*\\)\\s*([^,]+)', choices_str)\n",
    "    # Clean up whitespace and dots\n",
    "    res = [m.strip().replace(' .', '.').replace(' ,', ',') for m in matches]\n",
    "    return res\n",
    "\n",
    "for data_point in data:\n",
    "    mathqa_data.append({\n",
    "        \"dataset\": \"allenai/math_qa\",\n",
    "        \"id\": f\"mathqa_{cnt}\",\n",
    "        \"question\": data_point[\"Problem\"],\n",
    "        \"choices\": extract_choices(data_point[\"options\"]),\n",
    "        \"answer\": char_to_char_ans[data_point[\"correct\"]],\n",
    "        \"context\": data_point[\"Rationale\"],\n",
    "    })\n",
    "    cnt += 1"
   ]
  },
  {
   "cell_type": "code",
   "execution_count": 9,
   "id": "ae522f36",
   "metadata": {},
   "outputs": [],
   "source": [
    "data = load_dataset(\"allenai/math_qa\", split=\"validation\")\n",
    "cnt = 0\n",
    "\n",
    "mathqa_data_validation = []\n",
    "\n",
    "for data_point in data:\n",
    "    mathqa_data_validation.append({\n",
    "        \"dataset\": \"allenai/math_qa\",\n",
    "        \"id\": f\"mathqa_{cnt}\",\n",
    "        \"question\": data_point[\"Problem\"],\n",
    "        \"choices\": extract_choices(data_point[\"options\"]),\n",
    "        \"answer\": char_to_char_ans[data_point[\"correct\"]],\n",
    "        \"context\": data_point[\"Rationale\"],\n",
    "    })\n",
    "    cnt += 1"
   ]
  },
  {
   "cell_type": "code",
   "execution_count": 12,
   "id": "d4ead71f-9cd6-4ab8-a820-1f3a6faf565a",
   "metadata": {},
   "outputs": [],
   "source": [
    "data = load_dataset(\"allenai/openbookqa\", \"additional\", split=\"train\")\n",
    "cnt = 0\n",
    "\n",
    "openbookqa_data = []\n",
    "\n",
    "for data_point in data:\n",
    "    openbookqa_data.append({\n",
    "        \"dataset\": \"allenai/openbookqa\",\n",
    "        \"id\": f\"openbookqa_{cnt}\",\n",
    "        \"question\": data_point[\"question_stem\"],\n",
    "        \"choices\": data_point[\"choices\"][\"text\"],\n",
    "        \"answer\": data_point[\"answerKey\"],\n",
    "        \"context\": data_point[\"fact1\"],\n",
    "    })\n",
    "    cnt += 1"
   ]
  },
  {
   "cell_type": "code",
   "execution_count": 14,
   "id": "2508cfcf-7b32-40c6-b366-59a0492991d8",
   "metadata": {},
   "outputs": [],
   "source": [
    "data = load_dataset(\"allenai/openbookqa\", \"additional\", split=\"validation\")\n",
    "cnt = 0\n",
    "\n",
    "openbookqa_data_validation = []\n",
    "\n",
    "for data_point in data:\n",
    "    openbookqa_data_validation.append({\n",
    "        \"dataset\": \"allenai/openbookqa\",\n",
    "        \"id\": f\"openbookqa_{cnt}\",\n",
    "        \"question\": data_point[\"question_stem\"],\n",
    "        \"choices\": data_point[\"choices\"][\"text\"],\n",
    "        \"answer\": data_point[\"answerKey\"],\n",
    "        \"context\": data_point[\"fact1\"],\n",
    "    })\n",
    "    cnt += 1\n",
    "\n",
    "data = load_dataset(\"allenai/openbookqa\", \"additional\", split=\"test\")\n",
    "openbookqa_data_validation = []\n",
    "\n",
    "for data_point in data:\n",
    "    openbookqa_data_validation.append({\n",
    "        \"dataset\": \"allenai/openbookqa\",\n",
    "        \"id\": f\"openbookqa_{cnt}\",\n",
    "        \"question\": data_point[\"question_stem\"],\n",
    "        \"choices\": data_point[\"choices\"][\"text\"],\n",
    "        \"answer\": data_point[\"answerKey\"],\n",
    "        \"context\": data_point[\"fact1\"],\n",
    "    })\n",
    "    cnt += 1"
   ]
  },
  {
   "cell_type": "code",
   "execution_count": 15,
   "id": "4c5082c9",
   "metadata": {},
   "outputs": [],
   "source": [
    "def push_to_hf(subset_name, train_dataset, validation_dataset=None):\n",
    "    train_dataset = Dataset.from_list(train_dataset)\n",
    "    if validation_dataset is not None:\n",
    "        validation_dataset = Dataset.from_list(validation_dataset)\n",
    "        dataset_dict = DatasetDict({\n",
    "            \"train\": train_dataset,\n",
    "            \"validation\": validation_dataset\n",
    "        })\n",
    "    else:\n",
    "        dataset_dict = DatasetDict({\n",
    "            \"train\": train_dataset\n",
    "        })\n",
    "    dataset_dict.push_to_hub(\"igzi/MNLP_M2_mcqa_dataset\", config_name=subset_name)"
   ]
  },
  {
   "cell_type": "code",
   "execution_count": 16,
   "id": "eed722b4",
   "metadata": {},
   "outputs": [
    {
     "data": {
      "application/vnd.jupyter.widget-view+json": {
       "model_id": "e3ae952378904e5b93aeef4ce0cb6363",
       "version_major": 2,
       "version_minor": 0
      },
      "text/plain": [
       "Uploading the dataset shards:   0%|          | 0/1 [00:00<?, ?it/s]"
      ]
     },
     "metadata": {},
     "output_type": "display_data"
    },
    {
     "data": {
      "application/vnd.jupyter.widget-view+json": {
       "model_id": "42c948a8870747418bd683dbdb47c92f",
       "version_major": 2,
       "version_minor": 0
      },
      "text/plain": [
       "Creating parquet from Arrow format:   0%|          | 0/14 [00:00<?, ?ba/s]"
      ]
     },
     "metadata": {},
     "output_type": "display_data"
    },
    {
     "data": {
      "application/vnd.jupyter.widget-view+json": {
       "model_id": "9c70ab28551344c590085dbf87cad727",
       "version_major": 2,
       "version_minor": 0
      },
      "text/plain": [
       "Uploading the dataset shards:   0%|          | 0/1 [00:00<?, ?it/s]"
      ]
     },
     "metadata": {},
     "output_type": "display_data"
    },
    {
     "data": {
      "application/vnd.jupyter.widget-view+json": {
       "model_id": "30c4852ecb3148f6a0ffa0a2b1c2be0f",
       "version_major": 2,
       "version_minor": 0
      },
      "text/plain": [
       "Creating parquet from Arrow format:   0%|          | 0/1 [00:00<?, ?ba/s]"
      ]
     },
     "metadata": {},
     "output_type": "display_data"
    },
    {
     "data": {
      "application/vnd.jupyter.widget-view+json": {
       "model_id": "2b21f6204b4041acbc9d7a2df30372cf",
       "version_major": 2,
       "version_minor": 0
      },
      "text/plain": [
       "README.md:   0%|          | 0.00/2.19k [00:00<?, ?B/s]"
      ]
     },
     "metadata": {},
     "output_type": "display_data"
    },
    {
     "name": "stderr",
     "output_type": "stream",
     "text": [
      "No files have been modified since last commit. Skipping to prevent empty commit.\n"
     ]
    },
    {
     "data": {
      "application/vnd.jupyter.widget-view+json": {
       "model_id": "4fc67e3e7f124799bda6cae6881a886e",
       "version_major": 2,
       "version_minor": 0
      },
      "text/plain": [
       "Uploading the dataset shards:   0%|          | 0/1 [00:00<?, ?it/s]"
      ]
     },
     "metadata": {},
     "output_type": "display_data"
    },
    {
     "data": {
      "application/vnd.jupyter.widget-view+json": {
       "model_id": "5ffb5b112c49482aa8e79e2221698b0b",
       "version_major": 2,
       "version_minor": 0
      },
      "text/plain": [
       "Creating parquet from Arrow format:   0%|          | 0/3 [00:00<?, ?ba/s]"
      ]
     },
     "metadata": {},
     "output_type": "display_data"
    },
    {
     "data": {
      "application/vnd.jupyter.widget-view+json": {
       "model_id": "ef22ca0de6414de391672612058a8ed8",
       "version_major": 2,
       "version_minor": 0
      },
      "text/plain": [
       "Uploading the dataset shards:   0%|          | 0/1 [00:00<?, ?it/s]"
      ]
     },
     "metadata": {},
     "output_type": "display_data"
    },
    {
     "data": {
      "application/vnd.jupyter.widget-view+json": {
       "model_id": "167d6fe71dd74322a28add9934225acc",
       "version_major": 2,
       "version_minor": 0
      },
      "text/plain": [
       "Creating parquet from Arrow format:   0%|          | 0/1 [00:00<?, ?ba/s]"
      ]
     },
     "metadata": {},
     "output_type": "display_data"
    },
    {
     "name": "stderr",
     "output_type": "stream",
     "text": [
      "No files have been modified since last commit. Skipping to prevent empty commit.\n"
     ]
    },
    {
     "data": {
      "application/vnd.jupyter.widget-view+json": {
       "model_id": "70e438baa1e84546abd6b82446e2c4d3",
       "version_major": 2,
       "version_minor": 0
      },
      "text/plain": [
       "Uploading the dataset shards:   0%|          | 0/1 [00:00<?, ?it/s]"
      ]
     },
     "metadata": {},
     "output_type": "display_data"
    },
    {
     "data": {
      "application/vnd.jupyter.widget-view+json": {
       "model_id": "5e40112c67be4871b0a197df907c171c",
       "version_major": 2,
       "version_minor": 0
      },
      "text/plain": [
       "Creating parquet from Arrow format:   0%|          | 0/5 [00:00<?, ?ba/s]"
      ]
     },
     "metadata": {},
     "output_type": "display_data"
    },
    {
     "data": {
      "application/vnd.jupyter.widget-view+json": {
       "model_id": "2efe43478a01493789519ee47ab76f9d",
       "version_major": 2,
       "version_minor": 0
      },
      "text/plain": [
       "Uploading the dataset shards:   0%|          | 0/1 [00:00<?, ?it/s]"
      ]
     },
     "metadata": {},
     "output_type": "display_data"
    },
    {
     "data": {
      "application/vnd.jupyter.widget-view+json": {
       "model_id": "686f3cbe25d54810bec8bb2afb37a813",
       "version_major": 2,
       "version_minor": 0
      },
      "text/plain": [
       "Creating parquet from Arrow format:   0%|          | 0/2 [00:00<?, ?ba/s]"
      ]
     },
     "metadata": {},
     "output_type": "display_data"
    },
    {
     "data": {
      "application/vnd.jupyter.widget-view+json": {
       "model_id": "cbbe1b557df04c1ea66a55f062bc1c44",
       "version_major": 2,
       "version_minor": 0
      },
      "text/plain": [
       "Uploading the dataset shards:   0%|          | 0/1 [00:00<?, ?it/s]"
      ]
     },
     "metadata": {},
     "output_type": "display_data"
    },
    {
     "data": {
      "application/vnd.jupyter.widget-view+json": {
       "model_id": "338a8fd2f6104453bf85d6cb172ebc20",
       "version_major": 2,
       "version_minor": 0
      },
      "text/plain": [
       "Creating parquet from Arrow format:   0%|          | 0/30 [00:00<?, ?ba/s]"
      ]
     },
     "metadata": {},
     "output_type": "display_data"
    },
    {
     "data": {
      "application/vnd.jupyter.widget-view+json": {
       "model_id": "78d766832ee340d889ca8f49104f64ab",
       "version_major": 2,
       "version_minor": 0
      },
      "text/plain": [
       "Uploading the dataset shards:   0%|          | 0/1 [00:00<?, ?it/s]"
      ]
     },
     "metadata": {},
     "output_type": "display_data"
    },
    {
     "data": {
      "application/vnd.jupyter.widget-view+json": {
       "model_id": "c33e6256e69c4747a621b2783c631c5d",
       "version_major": 2,
       "version_minor": 0
      },
      "text/plain": [
       "Creating parquet from Arrow format:   0%|          | 0/5 [00:00<?, ?ba/s]"
      ]
     },
     "metadata": {},
     "output_type": "display_data"
    },
    {
     "data": {
      "application/vnd.jupyter.widget-view+json": {
       "model_id": "051c7624f8f6444e9775b7b11f64d642",
       "version_major": 2,
       "version_minor": 0
      },
      "text/plain": [
       "README.md:   0%|          | 0.00/2.19k [00:00<?, ?B/s]"
      ]
     },
     "metadata": {},
     "output_type": "display_data"
    },
    {
     "name": "stderr",
     "output_type": "stream",
     "text": [
      "No files have been modified since last commit. Skipping to prevent empty commit.\n"
     ]
    },
    {
     "data": {
      "application/vnd.jupyter.widget-view+json": {
       "model_id": "49fe54438e7043d698eddb1c65eddf6a",
       "version_major": 2,
       "version_minor": 0
      },
      "text/plain": [
       "Uploading the dataset shards:   0%|          | 0/1 [00:00<?, ?it/s]"
      ]
     },
     "metadata": {},
     "output_type": "display_data"
    },
    {
     "data": {
      "application/vnd.jupyter.widget-view+json": {
       "model_id": "d3caa55e36624bb4b15d69915ebb89c2",
       "version_major": 2,
       "version_minor": 0
      },
      "text/plain": [
       "Creating parquet from Arrow format:   0%|          | 0/5 [00:00<?, ?ba/s]"
      ]
     },
     "metadata": {},
     "output_type": "display_data"
    },
    {
     "data": {
      "application/vnd.jupyter.widget-view+json": {
       "model_id": "2ae5489bf497459b8fd3c11cfa6824b0",
       "version_major": 2,
       "version_minor": 0
      },
      "text/plain": [
       "Uploading the dataset shards:   0%|          | 0/1 [00:00<?, ?it/s]"
      ]
     },
     "metadata": {},
     "output_type": "display_data"
    },
    {
     "data": {
      "application/vnd.jupyter.widget-view+json": {
       "model_id": "23d60866e79441149c4dc26ae163550d",
       "version_major": 2,
       "version_minor": 0
      },
      "text/plain": [
       "Creating parquet from Arrow format:   0%|          | 0/1 [00:00<?, ?ba/s]"
      ]
     },
     "metadata": {},
     "output_type": "display_data"
    }
   ],
   "source": [
    "push_to_hf(\"MMLU\", mmlu_auxiliary_data, mmlu_validation_data)\n",
    "push_to_hf(\"ARC-Easy\", arc_easy_data, arc_easy_data_validation)\n",
    "push_to_hf(\"ScienceQA\", scienceqa_data, scienceqa_data_validation)\n",
    "push_to_hf(\"MathQA\", mathqa_data, mathqa_data_validation)\n",
    "push_to_hf(\"OpenBookQA\", openbookqa_data, openbookqa_data_validation)"
   ]
  }
 ],
 "metadata": {
  "kernelspec": {
   "display_name": "Python3",
   "language": "python",
   "name": "python3"
  },
  "language_info": {
   "codemirror_mode": {
    "name": "ipython",
    "version": 3
   },
   "file_extension": ".py",
   "mimetype": "text/x-python",
   "name": "python",
   "nbconvert_exporter": "python",
   "pygments_lexer": "ipython3",
   "version": "3.12.8"
  }
 },
 "nbformat": 4,
 "nbformat_minor": 5
}

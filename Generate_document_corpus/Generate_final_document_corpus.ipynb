{
 "cells": [
  {
   "cell_type": "code",
   "execution_count": 2,
   "id": "da9ab190-e351-4c34-9d93-c86c7ab2ae09",
   "metadata": {},
   "outputs": [],
   "source": [
    "from datasets import load_dataset, Dataset\n",
    "import numpy as np\n",
    "from tqdm import tqdm"
   ]
  },
  {
   "cell_type": "code",
   "execution_count": 26,
   "id": "fa5b97cd-a792-4fcd-b307-73249f372e5a",
   "metadata": {},
   "outputs": [],
   "source": [
    "corpus = load_dataset(\"igzi/pile-stem-corpus-filtered\", split=\"train\")"
   ]
  },
  {
   "cell_type": "code",
   "execution_count": 36,
   "id": "47f97cf4-804d-40de-8c28-d4b19f9ff91d",
   "metadata": {},
   "outputs": [],
   "source": [
    "import random\n",
    "\n",
    "random.seed(42)\n",
    "\n",
    "indices = random.sample(range(len(corpus)), subset_size)\n",
    "subset = corpus.select(indices)"
   ]
  },
  {
   "cell_type": "code",
   "execution_count": 32,
   "id": "0c21b1da-bf56-4577-ae82-9a453ebf2042",
   "metadata": {},
   "outputs": [
    {
     "data": {
      "application/vnd.jupyter.widget-view+json": {
       "model_id": "5158e03ae1694a9da58236520339bcd0",
       "version_major": 2,
       "version_minor": 0
      },
      "text/plain": [
       "Uploading the dataset shards:   0%|          | 0/1 [00:00<?, ?it/s]"
      ]
     },
     "metadata": {},
     "output_type": "display_data"
    },
    {
     "data": {
      "application/vnd.jupyter.widget-view+json": {
       "model_id": "55f7f2c73b9d4d06b848cf1c2f26bbac",
       "version_major": 2,
       "version_minor": 0
      },
      "text/plain": [
       "Creating parquet from Arrow format:   0%|          | 0/100 [00:00<?, ?ba/s]"
      ]
     },
     "metadata": {},
     "output_type": "display_data"
    },
    {
     "data": {
      "text/plain": [
       "CommitInfo(commit_url='https://huggingface.co/datasets/igzi/rag-final_dataset/commit/1f59208baa28056687d886fdb75a2c4a4b11fdbf', commit_message='Upload dataset', commit_description='', oid='1f59208baa28056687d886fdb75a2c4a4b11fdbf', pr_url=None, repo_url=RepoUrl('https://huggingface.co/datasets/igzi/rag-final_dataset', endpoint='https://huggingface.co', repo_type='dataset', repo_id='igzi/rag-final_dataset'), pr_revision=None, pr_num=None)"
      ]
     },
     "execution_count": 32,
     "metadata": {},
     "output_type": "execute_result"
    }
   ],
   "source": [
    "subset = subset.remove_columns([\"input_ids\", \"attention_mask\"])\n",
    "subset.push_to_hub(\"igzi/rag-final_dataset\")"
   ]
  },
  {
   "cell_type": "code",
   "execution_count": 33,
   "id": "daf7fa57-3542-4470-9599-0081f2f20f0d",
   "metadata": {},
   "outputs": [
    {
     "data": {
      "application/vnd.jupyter.widget-view+json": {
       "model_id": "085067b2a5c54c298f7ce31238fd1541",
       "version_major": 2,
       "version_minor": 0
      },
      "text/plain": [
       "README.md:   0%|          | 0.00/332 [00:00<?, ?B/s]"
      ]
     },
     "metadata": {},
     "output_type": "display_data"
    },
    {
     "data": {
      "application/vnd.jupyter.widget-view+json": {
       "model_id": "42635a729cfe4e958bf249f8205f8b32",
       "version_major": 2,
       "version_minor": 0
      },
      "text/plain": [
       "train-00000-of-00001.parquet:   0%|          | 0.00/45.3M [00:00<?, ?B/s]"
      ]
     },
     "metadata": {},
     "output_type": "display_data"
    },
    {
     "data": {
      "application/vnd.jupyter.widget-view+json": {
       "model_id": "7d82632a4d3c4302a542c16735dcbb78",
       "version_major": 2,
       "version_minor": 0
      },
      "text/plain": [
       "Generating train split:   0%|          | 0/100000 [00:00<?, ? examples/s]"
      ]
     },
     "metadata": {},
     "output_type": "display_data"
    }
   ],
   "source": [
    "dataset1 = load_dataset(\"igzi/rag-final_dataset\", split=\"train\")\n",
    "dataset2 = load_dataset(\"igzi/MNLP_M3_document_repo\", split=\"train\")"
   ]
  },
  {
   "cell_type": "code",
   "execution_count": null,
   "id": "34cc6a8a-2039-4c50-ac53-7199b86927be",
   "metadata": {},
   "outputs": [],
   "source": [
    "from sentence_transformers import SentenceTransformer\n",
    "from huggingface_hub import create_repo, upload_folder, HfApi\n",
    "import shutil\n",
    "import os\n",
    "\n",
    "# Config\n",
    "source_model = \"BAAI/bge-small-en-v1.5\"\n",
    "target_repo = \"igzi/MNLP_M3_document_encoder\"\n",
    "local_dir = \"./bge_encoder_temp\"\n",
    "\n",
    "# Step 1: Download model\n",
    "print(f\"Loading model: {source_model}\")\n",
    "model = SentenceTransformer(source_model)\n",
    "\n",
    "# Step 2: Save to local directory\n",
    "if os.path.exists(local_dir):\n",
    "    shutil.rmtree(local_dir)\n",
    "model.save(local_dir)\n",
    "\n",
    "# Step 3: Create repo (skip if it already exists)\n",
    "print(f\"Creating repo (if not already present): {target_repo}\")\n",
    "create_repo(repo_id=target_repo, repo_type=\"model\", exist_ok=True)\n",
    "\n",
    "# Step 4: Upload model\n",
    "print(f\"Uploading to: {target_repo}\")\n",
    "upload_folder(\n",
    "    repo_id=target_repo,\n",
    "    folder_path=local_dir,\n",
    "    repo_type=\"model\"\n",
    ")\n",
    "\n",
    "print(\"✅ Upload complete.\")\n"
   ]
  }
 ],
 "metadata": {
  "kernelspec": {
   "display_name": "MLNP Project",
   "language": "python",
   "name": "mnlp_m2"
  },
  "language_info": {
   "codemirror_mode": {
    "name": "ipython",
    "version": 3
   },
   "file_extension": ".py",
   "mimetype": "text/x-python",
   "name": "python",
   "nbconvert_exporter": "python",
   "pygments_lexer": "ipython3",
   "version": "3.12.8"
  }
 },
 "nbformat": 4,
 "nbformat_minor": 5
}

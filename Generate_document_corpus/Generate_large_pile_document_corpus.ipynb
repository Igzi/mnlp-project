{
 "cells": [
  {
   "cell_type": "code",
   "execution_count": 1,
   "id": "044dcb05-c27f-46c1-a1a3-f8169544a5c5",
   "metadata": {},
   "outputs": [],
   "source": [
    "from datasets import load_dataset, Dataset, concatenate_datasets\n",
    "\n",
    "# Normalization function with meta source info\n",
    "def normalize_to_text_with_meta(dataset, text_fields, source_name):\n",
    "    def extract_text(example):\n",
    "        texts = [str(example[field]) for field in text_fields if field in example and example[field]]\n",
    "        return {\n",
    "            'text': '\\n\\n'.join(texts).strip(),\n",
    "            'source': source_name\n",
    "        }\n",
    "    return dataset.map(extract_text, remove_columns=dataset.column_names)\n",
    "\n",
    "datasets_to_merge = []"
   ]
  },
  {
   "cell_type": "code",
   "execution_count": 2,
   "id": "b57a66e4-c845-4cab-b4d2-de638d8a18cb",
   "metadata": {},
   "outputs": [
    {
     "data": {
      "application/vnd.jupyter.widget-view+json": {
       "model_id": "6ffec4dd3aa74c2fa017050de72c4f48",
       "version_major": 2,
       "version_minor": 0
      },
      "text/plain": [
       "Map:   0%|          | 0/2101279 [00:00<?, ? examples/s]"
      ]
     },
     "metadata": {},
     "output_type": "display_data"
    }
   ],
   "source": [
    "# milkshake721/2.1M-wiki-STEM\n",
    "wiki_stem = load_dataset(\"milkshake721/2.1M-wiki-STEM\", split=\"train\")\n",
    "wiki_stem = normalize_to_text_with_meta(wiki_stem, [\"title\", \"section\", \"text\"], \"https://huggingface.co/datasets/milkshake721/2.1M-wiki-STEM\")\n",
    "datasets_to_merge.append(wiki_stem)"
   ]
  },
  {
   "cell_type": "code",
   "execution_count": 3,
   "id": "ac4300c7-76f3-40ee-ba17-7d83e72e5c1f",
   "metadata": {},
   "outputs": [
    {
     "data": {
      "application/vnd.jupyter.widget-view+json": {
       "model_id": "917bbba2bef24dc4856052031a94b6ce",
       "version_major": 2,
       "version_minor": 0
      },
      "text/plain": [
       "Map:   0%|          | 0/149700 [00:00<?, ? examples/s]"
      ]
     },
     "metadata": {},
     "output_type": "display_data"
    }
   ],
   "source": [
    "# izumi-lab/open-text-books\n",
    "open_text_books = load_dataset(\"izumi-lab/open-text-books\", split=\"train\")\n",
    "open_text_books = normalize_to_text_with_meta(open_text_books, [\"text\"], \"https://huggingface.co/datasets/izumi-lab/open-text-books\")\n",
    "datasets_to_merge.append(open_text_books)"
   ]
  },
  {
   "cell_type": "code",
   "execution_count": 4,
   "id": "66e60ac0-f0bd-42ca-a544-471bf308b61b",
   "metadata": {},
   "outputs": [
    {
     "data": {
      "application/vnd.jupyter.widget-view+json": {
       "model_id": "f6bb73a695944cc494a9a730e506c0ca",
       "version_major": 2,
       "version_minor": 0
      },
      "text/plain": [
       "Map:   0%|          | 0/1100953 [00:00<?, ? examples/s]"
      ]
     },
     "metadata": {},
     "output_type": "display_data"
    }
   ],
   "source": [
    "def normalize_se_to_text_with_meta(dataset, source_name):\n",
    "    def extract_text(example):\n",
    "        return {\n",
    "            'text': \"Q:\\n\\n\" + example[\"title_body\"] + \"\\n\\nA:\\n\\n\" + example[\"upvoted_answer\"],\n",
    "            'source': source_name\n",
    "        }\n",
    "    return dataset.map(extract_text, remove_columns=dataset.column_names)\n",
    "    \n",
    "# flax-sentence-embeddings/stackexchange_math_jsonl\n",
    "stackexchange_math = load_dataset(\"flax-sentence-embeddings/stackexchange_math_jsonl\", split=\"train\", name=\"titlebody_answer\")\n",
    "stackexchange_math = normalize_se_to_text_with_meta(stackexchange_math, \"https://huggingface.co/datasets/flax-sentence-embeddings/stackexchange_math_jsonl\")\n",
    "datasets_to_merge.append(stackexchange_math)"
   ]
  },
  {
   "cell_type": "code",
   "execution_count": 5,
   "id": "c543089c-71a8-4257-92d3-4b10ee9339eb",
   "metadata": {},
   "outputs": [
    {
     "name": "stdout",
     "output_type": "stream",
     "text": [
      "Dataset: https://huggingface.co/datasets/milkshake721/2.1M-wiki-STEM Estimated Size: 1416.46 MB\n",
      "Dataset: https://huggingface.co/datasets/izumi-lab/open-text-books Estimated Size: 402.20 MB\n",
      "Dataset: https://huggingface.co/datasets/flax-sentence-embeddings/stackexchange_math_jsonl Estimated Size: 1618.09 MB\n"
     ]
    }
   ],
   "source": [
    "import sys\n",
    "from datasets import Dataset\n",
    "\n",
    "def estimate_dataset_size_mb(dataset: Dataset):\n",
    "    \"\"\"\n",
    "    Estimate the dataset size in MB by calculating the average text size.\n",
    "    \"\"\"\n",
    "    sample_size = min(1000, len(dataset))\n",
    "    sample_texts = dataset.select(range(sample_size))[\"text\"]\n",
    "\n",
    "    total_chars = sum(len(text) for text in sample_texts)\n",
    "    avg_chars_per_doc = total_chars / sample_size\n",
    "\n",
    "    total_chars_all = avg_chars_per_doc * len(dataset)\n",
    "    total_bytes = total_chars_all  # Assuming 1 char = 1 byte (ASCII-heavy text)\n",
    "\n",
    "    size_mb = total_bytes / (1024 * 1024)\n",
    "    return size_mb\n",
    "\n",
    "# Assuming datasets_to_merge is your list of datasets with {'text': ..., 'meta': ...}\n",
    "for ds in datasets_to_merge:\n",
    "    source_name = ds[0]['source']  # Safe as all in ds share the same source meta\n",
    "    size_mb = estimate_dataset_size_mb(ds)\n",
    "    print(f\"Dataset: {source_name.ljust(25)} Estimated Size: {size_mb:.2f} MB\")\n"
   ]
  },
  {
   "cell_type": "code",
   "execution_count": 6,
   "id": "3fa65c16-9c17-4a19-980e-381fe8c21c21",
   "metadata": {},
   "outputs": [
    {
     "name": "stdout",
     "output_type": "stream",
     "text": [
      "Merging datasets...\n"
     ]
    },
    {
     "data": {
      "application/vnd.jupyter.widget-view+json": {
       "model_id": "aa4096a026694ce0affb46f08cf7856b",
       "version_major": 2,
       "version_minor": 0
      },
      "text/plain": [
       "Saving the dataset (0/8 shards):   0%|          | 0/3351932 [00:00<?, ? examples/s]"
      ]
     },
     "metadata": {},
     "output_type": "display_data"
    },
    {
     "data": {
      "application/vnd.jupyter.widget-view+json": {
       "model_id": "0b74decfb66743918e0ebab56d8706ef",
       "version_major": 2,
       "version_minor": 0
      },
      "text/plain": [
       "Creating json from Arrow format:   0%|          | 0/3352 [00:00<?, ?ba/s]"
      ]
     },
     "metadata": {},
     "output_type": "display_data"
    },
    {
     "name": "stdout",
     "output_type": "stream",
     "text": [
      "Dataset successfully merged and saved to 'merged_stem_corpus'.\n"
     ]
    }
   ],
   "source": [
    "# 2. Concatenate all datasets into a single one\n",
    "print(\"Merging datasets...\")\n",
    "\n",
    "merged_dataset = concatenate_datasets(datasets_to_merge)\n",
    "\n",
    "# 3. Save merged dataset to disk (Arrow + JSONL format)\n",
    "output_dir = \"merged_stem_corpus\"\n",
    "merged_dataset.save_to_disk(output_dir)\n",
    "merged_dataset.to_json(f\"{output_dir}/merged_stem_corpus.jsonl\", lines=True)\n",
    "\n",
    "print(f\"Dataset successfully merged and saved to '{output_dir}'.\")"
   ]
  },
  {
   "cell_type": "code",
   "execution_count": 7,
   "id": "c42c9e54-b4e1-4bc0-b2f9-a3f4bcea62e8",
   "metadata": {},
   "outputs": [
    {
     "name": "stdout",
     "output_type": "stream",
     "text": [
      "Pushing dataset to Hugging Face Hub: igzi/pile-stem-corpus\n"
     ]
    },
    {
     "data": {
      "application/vnd.jupyter.widget-view+json": {
       "model_id": "a422352ade124a08a8127ceb60d13ca3",
       "version_major": 2,
       "version_minor": 0
      },
      "text/plain": [
       "Uploading the dataset shards:   0%|          | 0/8 [00:00<?, ?it/s]"
      ]
     },
     "metadata": {},
     "output_type": "display_data"
    },
    {
     "data": {
      "application/vnd.jupyter.widget-view+json": {
       "model_id": "861e4ff1b85d46a3919d7aa29b29dc8f",
       "version_major": 2,
       "version_minor": 0
      },
      "text/plain": [
       "Creating parquet from Arrow format:   0%|          | 0/419 [00:00<?, ?ba/s]"
      ]
     },
     "metadata": {},
     "output_type": "display_data"
    },
    {
     "data": {
      "application/vnd.jupyter.widget-view+json": {
       "model_id": "01f7aef6c11c4cbc8128253ef839ad12",
       "version_major": 2,
       "version_minor": 0
      },
      "text/plain": [
       "Creating parquet from Arrow format:   0%|          | 0/419 [00:00<?, ?ba/s]"
      ]
     },
     "metadata": {},
     "output_type": "display_data"
    },
    {
     "data": {
      "application/vnd.jupyter.widget-view+json": {
       "model_id": "251fe730c6af4c579011d9954da6a814",
       "version_major": 2,
       "version_minor": 0
      },
      "text/plain": [
       "Creating parquet from Arrow format:   0%|          | 0/419 [00:00<?, ?ba/s]"
      ]
     },
     "metadata": {},
     "output_type": "display_data"
    },
    {
     "data": {
      "application/vnd.jupyter.widget-view+json": {
       "model_id": "8dee9322dada4b57b127484f110be1d2",
       "version_major": 2,
       "version_minor": 0
      },
      "text/plain": [
       "Creating parquet from Arrow format:   0%|          | 0/419 [00:00<?, ?ba/s]"
      ]
     },
     "metadata": {},
     "output_type": "display_data"
    },
    {
     "data": {
      "application/vnd.jupyter.widget-view+json": {
       "model_id": "8bf90415432d41f0a75a413ce724baff",
       "version_major": 2,
       "version_minor": 0
      },
      "text/plain": [
       "Creating parquet from Arrow format:   0%|          | 0/419 [00:00<?, ?ba/s]"
      ]
     },
     "metadata": {},
     "output_type": "display_data"
    },
    {
     "data": {
      "application/vnd.jupyter.widget-view+json": {
       "model_id": "7823121b579c49ea9872be826bb8217a",
       "version_major": 2,
       "version_minor": 0
      },
      "text/plain": [
       "Creating parquet from Arrow format:   0%|          | 0/419 [00:00<?, ?ba/s]"
      ]
     },
     "metadata": {},
     "output_type": "display_data"
    },
    {
     "data": {
      "application/vnd.jupyter.widget-view+json": {
       "model_id": "e7955979944043b9bda52efbe1da920b",
       "version_major": 2,
       "version_minor": 0
      },
      "text/plain": [
       "Creating parquet from Arrow format:   0%|          | 0/419 [00:00<?, ?ba/s]"
      ]
     },
     "metadata": {},
     "output_type": "display_data"
    },
    {
     "data": {
      "application/vnd.jupyter.widget-view+json": {
       "model_id": "cb7385f022a5442bab798c0f57906ebf",
       "version_major": 2,
       "version_minor": 0
      },
      "text/plain": [
       "Creating parquet from Arrow format:   0%|          | 0/419 [00:00<?, ?ba/s]"
      ]
     },
     "metadata": {},
     "output_type": "display_data"
    },
    {
     "name": "stdout",
     "output_type": "stream",
     "text": [
      "Dataset successfully pushed to https://huggingface.co/datasets/igzi/pile-stem-corpus\n"
     ]
    }
   ],
   "source": [
    "# 4. Push dataset to Hugging Face Hub\n",
    "dataset_repo_id = \"igzi/pile-stem-corpus\"\n",
    "\n",
    "print(f\"Pushing dataset to Hugging Face Hub: {dataset_repo_id}\")\n",
    "\n",
    "# Push dataset to hub\n",
    "merged_dataset.push_to_hub(dataset_repo_id, private=False)  # set private=True if you want\n",
    "\n",
    "print(f\"Dataset successfully pushed to https://huggingface.co/datasets/{dataset_repo_id}\")"
   ]
  },
  {
   "cell_type": "code",
   "execution_count": 8,
   "id": "ea92c9fb-6b05-4d5b-8d6e-828eab86700d",
   "metadata": {},
   "outputs": [
    {
     "data": {
      "application/vnd.jupyter.widget-view+json": {
       "model_id": "f81a96af690940ad8e16cbbb0a4e1fa6",
       "version_major": 2,
       "version_minor": 0
      },
      "text/plain": [
       "Map:   0%|          | 0/1999486 [00:00<?, ? examples/s]"
      ]
     },
     "metadata": {},
     "output_type": "display_data"
    }
   ],
   "source": [
    "# gfissore/arxiv-abstracts-2021\n",
    "arxiv_abstracts = load_dataset(\"gfissore/arxiv-abstracts-2021\", split=\"train\")\n",
    "arxiv_abstracts = normalize_to_text_with_meta(arxiv_abstracts, [\"title\", \"abstract\"], \"https://huggingface.co/datasets/gfissore/arxiv-abstracts-2021\")\n",
    "datasets_to_merge.append(arxiv_abstracts)"
   ]
  },
  {
   "cell_type": "code",
   "execution_count": 9,
   "id": "0751038c-a86c-4705-95aa-0fdc401d9006",
   "metadata": {},
   "outputs": [
    {
     "data": {
      "application/vnd.jupyter.widget-view+json": {
       "model_id": "3b706fee7db24f6392436857d6d868c8",
       "version_major": 2,
       "version_minor": 0
      },
      "text/plain": [
       "Map:   0%|          | 0/100000 [00:00<?, ? examples/s]"
      ]
     },
     "metadata": {},
     "output_type": "display_data"
    }
   ],
   "source": [
    "pile_dmmath = load_dataset(\n",
    "    \"timaeus/pile-dm_mathematics\",\n",
    "    split=\"train\"\n",
    ")\n",
    "pile_dmmath = normalize_to_text_with_meta(pile_dmmath, [\"text\"], \"https://huggingface.co/datasets/timaeus/pile-dm_mathematics/viewer\")\n",
    "datasets_to_merge.append(pile_dmmath)"
   ]
  },
  {
   "cell_type": "code",
   "execution_count": 10,
   "id": "5a5a7e0a-2170-4518-b7ff-ff05f980a5fe",
   "metadata": {},
   "outputs": [
    {
     "name": "stdout",
     "output_type": "stream",
     "text": [
      "Dataset: https://huggingface.co/datasets/milkshake721/2.1M-wiki-STEM Estimated Size: 1416.46 MB\n",
      "Dataset: https://huggingface.co/datasets/izumi-lab/open-text-books Estimated Size: 402.20 MB\n",
      "Dataset: https://huggingface.co/datasets/flax-sentence-embeddings/stackexchange_math_jsonl Estimated Size: 1618.09 MB\n",
      "Dataset: https://huggingface.co/datasets/gfissore/arxiv-abstracts-2021 Estimated Size: 1660.30 MB\n",
      "Dataset: https://huggingface.co/datasets/timaeus/pile-dm_mathematics/viewer Estimated Size: 781.40 MB\n"
     ]
    }
   ],
   "source": [
    "# Assuming datasets_to_merge is your list of datasets with {'text': ..., 'meta': ...}\n",
    "for ds in datasets_to_merge:\n",
    "    source_name = ds[0]['source']  # Safe as all in ds share the same source meta\n",
    "    size_mb = estimate_dataset_size_mb(ds)\n",
    "    print(f\"Dataset: {source_name.ljust(25)} Estimated Size: {size_mb:.2f} MB\")"
   ]
  },
  {
   "cell_type": "code",
   "execution_count": 11,
   "id": "3862810f-fef6-4445-b5e1-e22ca0d48db6",
   "metadata": {},
   "outputs": [
    {
     "name": "stdout",
     "output_type": "stream",
     "text": [
      "Merging datasets...\n"
     ]
    },
    {
     "data": {
      "application/vnd.jupyter.widget-view+json": {
       "model_id": "a378067c74ad448fa46a364a9ce56bbe",
       "version_major": 2,
       "version_minor": 0
      },
      "text/plain": [
       "Saving the dataset (0/14 shards):   0%|          | 0/5451418 [00:00<?, ? examples/s]"
      ]
     },
     "metadata": {},
     "output_type": "display_data"
    },
    {
     "data": {
      "application/vnd.jupyter.widget-view+json": {
       "model_id": "16c0ef42e987493aba74fec041947ea6",
       "version_major": 2,
       "version_minor": 0
      },
      "text/plain": [
       "Creating json from Arrow format:   0%|          | 0/5452 [00:00<?, ?ba/s]"
      ]
     },
     "metadata": {},
     "output_type": "display_data"
    },
    {
     "name": "stdout",
     "output_type": "stream",
     "text": [
      "Dataset successfully merged and saved to 'merged_stem_corpus_extended'.\n"
     ]
    }
   ],
   "source": [
    "# 2. Concatenate all datasets into a single one\n",
    "print(\"Merging datasets...\")\n",
    "\n",
    "merged_dataset = concatenate_datasets(datasets_to_merge)\n",
    "\n",
    "# 3. Save merged dataset to disk (Arrow + JSONL format)\n",
    "output_dir = \"merged_stem_corpus_extended\"\n",
    "merged_dataset.save_to_disk(output_dir)\n",
    "merged_dataset.to_json(f\"{output_dir}/merged_stem_corpus_extended.jsonl\", lines=True)\n",
    "\n",
    "print(f\"Dataset successfully merged and saved to '{output_dir}'.\")"
   ]
  },
  {
   "cell_type": "code",
   "execution_count": 12,
   "id": "d6a8ffb1-a017-4a5d-9656-c5adc8a9eb3a",
   "metadata": {},
   "outputs": [
    {
     "name": "stdout",
     "output_type": "stream",
     "text": [
      "Pushing dataset to Hugging Face Hub: igzi/pile-stem-corpus-extended\n"
     ]
    },
    {
     "data": {
      "application/vnd.jupyter.widget-view+json": {
       "model_id": "ffe7df3c20554fb9935e39a331a38c63",
       "version_major": 2,
       "version_minor": 0
      },
      "text/plain": [
       "Uploading the dataset shards:   0%|          | 0/14 [00:00<?, ?it/s]"
      ]
     },
     "metadata": {},
     "output_type": "display_data"
    },
    {
     "data": {
      "application/vnd.jupyter.widget-view+json": {
       "model_id": "42b9caf8a15141d195c1e538e830cf2f",
       "version_major": 2,
       "version_minor": 0
      },
      "text/plain": [
       "Creating parquet from Arrow format:   0%|          | 0/390 [00:00<?, ?ba/s]"
      ]
     },
     "metadata": {},
     "output_type": "display_data"
    },
    {
     "data": {
      "application/vnd.jupyter.widget-view+json": {
       "model_id": "01c54a14814c4babbac7a1d9e3923108",
       "version_major": 2,
       "version_minor": 0
      },
      "text/plain": [
       "Creating parquet from Arrow format:   0%|          | 0/390 [00:00<?, ?ba/s]"
      ]
     },
     "metadata": {},
     "output_type": "display_data"
    },
    {
     "data": {
      "application/vnd.jupyter.widget-view+json": {
       "model_id": "41299ab0d08248afa40506a62696edde",
       "version_major": 2,
       "version_minor": 0
      },
      "text/plain": [
       "Creating parquet from Arrow format:   0%|          | 0/390 [00:00<?, ?ba/s]"
      ]
     },
     "metadata": {},
     "output_type": "display_data"
    },
    {
     "data": {
      "application/vnd.jupyter.widget-view+json": {
       "model_id": "beb95a8ebd06414fb36c536059138707",
       "version_major": 2,
       "version_minor": 0
      },
      "text/plain": [
       "Creating parquet from Arrow format:   0%|          | 0/390 [00:00<?, ?ba/s]"
      ]
     },
     "metadata": {},
     "output_type": "display_data"
    },
    {
     "data": {
      "application/vnd.jupyter.widget-view+json": {
       "model_id": "77436337a1ea4f959f2d1f616367e216",
       "version_major": 2,
       "version_minor": 0
      },
      "text/plain": [
       "Creating parquet from Arrow format:   0%|          | 0/390 [00:00<?, ?ba/s]"
      ]
     },
     "metadata": {},
     "output_type": "display_data"
    },
    {
     "data": {
      "application/vnd.jupyter.widget-view+json": {
       "model_id": "aaeca1ae60744118bd247d5b01093634",
       "version_major": 2,
       "version_minor": 0
      },
      "text/plain": [
       "Creating parquet from Arrow format:   0%|          | 0/390 [00:00<?, ?ba/s]"
      ]
     },
     "metadata": {},
     "output_type": "display_data"
    },
    {
     "data": {
      "application/vnd.jupyter.widget-view+json": {
       "model_id": "f8bbd74d581047219120fc1f3931a8d8",
       "version_major": 2,
       "version_minor": 0
      },
      "text/plain": [
       "Creating parquet from Arrow format:   0%|          | 0/390 [00:00<?, ?ba/s]"
      ]
     },
     "metadata": {},
     "output_type": "display_data"
    },
    {
     "data": {
      "application/vnd.jupyter.widget-view+json": {
       "model_id": "ff41df65ceee43c19e097f5c44d31971",
       "version_major": 2,
       "version_minor": 0
      },
      "text/plain": [
       "Creating parquet from Arrow format:   0%|          | 0/390 [00:00<?, ?ba/s]"
      ]
     },
     "metadata": {},
     "output_type": "display_data"
    },
    {
     "data": {
      "application/vnd.jupyter.widget-view+json": {
       "model_id": "b62c096f0e2547099e97ab5069ef8a68",
       "version_major": 2,
       "version_minor": 0
      },
      "text/plain": [
       "Creating parquet from Arrow format:   0%|          | 0/390 [00:00<?, ?ba/s]"
      ]
     },
     "metadata": {},
     "output_type": "display_data"
    },
    {
     "data": {
      "application/vnd.jupyter.widget-view+json": {
       "model_id": "c177605a65bc41edbd6057bd9b9ad6f4",
       "version_major": 2,
       "version_minor": 0
      },
      "text/plain": [
       "Creating parquet from Arrow format:   0%|          | 0/390 [00:00<?, ?ba/s]"
      ]
     },
     "metadata": {},
     "output_type": "display_data"
    },
    {
     "data": {
      "application/vnd.jupyter.widget-view+json": {
       "model_id": "2b214ee3ca824486a924799a756bb114",
       "version_major": 2,
       "version_minor": 0
      },
      "text/plain": [
       "Creating parquet from Arrow format:   0%|          | 0/390 [00:00<?, ?ba/s]"
      ]
     },
     "metadata": {},
     "output_type": "display_data"
    },
    {
     "data": {
      "application/vnd.jupyter.widget-view+json": {
       "model_id": "079ea44b68e14c569c1502873bae29df",
       "version_major": 2,
       "version_minor": 0
      },
      "text/plain": [
       "Creating parquet from Arrow format:   0%|          | 0/390 [00:00<?, ?ba/s]"
      ]
     },
     "metadata": {},
     "output_type": "display_data"
    },
    {
     "data": {
      "application/vnd.jupyter.widget-view+json": {
       "model_id": "60e6bc70709e40ba878355a979f65ceb",
       "version_major": 2,
       "version_minor": 0
      },
      "text/plain": [
       "Creating parquet from Arrow format:   0%|          | 0/390 [00:00<?, ?ba/s]"
      ]
     },
     "metadata": {},
     "output_type": "display_data"
    },
    {
     "data": {
      "application/vnd.jupyter.widget-view+json": {
       "model_id": "de8592cfaf454598904f19b0f9e0058a",
       "version_major": 2,
       "version_minor": 0
      },
      "text/plain": [
       "Creating parquet from Arrow format:   0%|          | 0/390 [00:00<?, ?ba/s]"
      ]
     },
     "metadata": {},
     "output_type": "display_data"
    },
    {
     "name": "stdout",
     "output_type": "stream",
     "text": [
      "Dataset successfully pushed to https://huggingface.co/datasets/igzi/pile-stem-corpus-extended\n"
     ]
    }
   ],
   "source": [
    "# 4. Push dataset to Hugging Face Hub\n",
    "dataset_repo_id = \"igzi/pile-stem-corpus-extended\"\n",
    "\n",
    "print(f\"Pushing dataset to Hugging Face Hub: {dataset_repo_id}\")\n",
    "\n",
    "# Push dataset to hub\n",
    "merged_dataset.push_to_hub(dataset_repo_id, private=False)  # set private=True if you want\n",
    "\n",
    "print(f\"Dataset successfully pushed to https://huggingface.co/datasets/{dataset_repo_id}\")"
   ]
  }
 ],
 "metadata": {
  "kernelspec": {
   "display_name": "MLNP Project",
   "language": "python",
   "name": "mnlp_m2"
  },
  "language_info": {
   "codemirror_mode": {
    "name": "ipython",
    "version": 3
   },
   "file_extension": ".py",
   "mimetype": "text/x-python",
   "name": "python",
   "nbconvert_exporter": "python",
   "pygments_lexer": "ipython3",
   "version": "3.12.8"
  }
 },
 "nbformat": 4,
 "nbformat_minor": 5
}

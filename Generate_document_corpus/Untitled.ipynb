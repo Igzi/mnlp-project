{
 "cells": [
  {
   "cell_type": "code",
   "execution_count": 1,
   "id": "30a89ab6-c3d4-41a5-8ed8-c7e739368910",
   "metadata": {},
   "outputs": [
    {
     "data": {
      "application/vnd.jupyter.widget-view+json": {
       "model_id": "e7013fff862f4176b14b5928e15319da",
       "version_major": 2,
       "version_minor": 0
      },
      "text/plain": [
       "tokenizer_config.json:   0%|          | 0.00/366 [00:00<?, ?B/s]"
      ]
     },
     "metadata": {},
     "output_type": "display_data"
    },
    {
     "data": {
      "application/vnd.jupyter.widget-view+json": {
       "model_id": "3190cfb3c6b249839388dd4f8871b826",
       "version_major": 2,
       "version_minor": 0
      },
      "text/plain": [
       "vocab.txt:   0%|          | 0.00/232k [00:00<?, ?B/s]"
      ]
     },
     "metadata": {},
     "output_type": "display_data"
    },
    {
     "data": {
      "application/vnd.jupyter.widget-view+json": {
       "model_id": "e867c9c9d5f049da9377c747457ab2b0",
       "version_major": 2,
       "version_minor": 0
      },
      "text/plain": [
       "tokenizer.json:   0%|          | 0.00/711k [00:00<?, ?B/s]"
      ]
     },
     "metadata": {},
     "output_type": "display_data"
    },
    {
     "data": {
      "application/vnd.jupyter.widget-view+json": {
       "model_id": "95031c92717a4371a8ecf7cf4b43a5fc",
       "version_major": 2,
       "version_minor": 0
      },
      "text/plain": [
       "special_tokens_map.json:   0%|          | 0.00/125 [00:00<?, ?B/s]"
      ]
     },
     "metadata": {},
     "output_type": "display_data"
    }
   ],
   "source": [
    "from transformers import AutoTokenizer\n",
    "\n",
    "tokenizer = AutoTokenizer.from_pretrained(\"BAAI/bge-small-en-v1.5\")"
   ]
  },
  {
   "cell_type": "code",
   "execution_count": 7,
   "id": "7f547f29-9a5d-445e-907b-a11092ba4c95",
   "metadata": {},
   "outputs": [],
   "source": [
    "text = \"Apple Extended Keyboard\\n\\nApple Extended Keyboard\\n\\nIn 1994, Apple would begin shipping the AppleDesign Keyboard (M2980) which featured only one ADB port and which used rubber dome switches rather than Alps Electric switches. This, in turn, led to a market for 3rd party keyboards that replicate some of the AEK feel, with Matias' line of Tactile Pro and Quiet Pro keyboards perhaps being the most notable.\"\n",
    "tokenized = tokenizer(text, truncation=False, add_special_tokens=False)"
   ]
  },
  {
   "cell_type": "code",
   "execution_count": 8,
   "id": "3259d721-f6d2-41dc-a7f1-43d0dd10a719",
   "metadata": {},
   "outputs": [
    {
     "name": "stdout",
     "output_type": "stream",
     "text": [
      "{'input_ids': [6207, 3668, 9019, 6207, 3668, 9019, 1999, 2807, 1010, 6207, 2052, 4088, 7829, 1996, 6207, 6155, 23773, 9019, 1006, 25525, 2683, 17914, 1007, 2029, 2956, 2069, 2028, 4748, 2497, 3417, 1998, 2029, 2109, 8903, 8514, 15924, 2738, 2084, 13698, 3751, 15924, 1012, 2023, 1010, 1999, 2735, 1010, 2419, 2000, 1037, 3006, 2005, 3822, 2283, 6269, 2008, 28024, 2070, 1997, 1996, 29347, 2243, 2514, 1010, 2007, 13523, 7951, 1005, 2240, 1997, 11937, 6593, 9463, 4013, 1998, 4251, 4013, 6269, 3383, 2108, 1996, 2087, 3862, 1012], 'token_type_ids': [0, 0, 0, 0, 0, 0, 0, 0, 0, 0, 0, 0, 0, 0, 0, 0, 0, 0, 0, 0, 0, 0, 0, 0, 0, 0, 0, 0, 0, 0, 0, 0, 0, 0, 0, 0, 0, 0, 0, 0, 0, 0, 0, 0, 0, 0, 0, 0, 0, 0, 0, 0, 0, 0, 0, 0, 0, 0, 0, 0, 0, 0, 0, 0, 0, 0, 0, 0, 0, 0, 0, 0, 0, 0, 0, 0, 0, 0, 0, 0, 0, 0, 0, 0], 'attention_mask': [1, 1, 1, 1, 1, 1, 1, 1, 1, 1, 1, 1, 1, 1, 1, 1, 1, 1, 1, 1, 1, 1, 1, 1, 1, 1, 1, 1, 1, 1, 1, 1, 1, 1, 1, 1, 1, 1, 1, 1, 1, 1, 1, 1, 1, 1, 1, 1, 1, 1, 1, 1, 1, 1, 1, 1, 1, 1, 1, 1, 1, 1, 1, 1, 1, 1, 1, 1, 1, 1, 1, 1, 1, 1, 1, 1, 1, 1, 1, 1, 1, 1, 1, 1]}\n"
     ]
    }
   ],
   "source": [
    "print(tokenized)"
   ]
  },
  {
   "cell_type": "code",
   "execution_count": 6,
   "id": "6d0c116c-87b7-44c7-bb11-3861e460e897",
   "metadata": {},
   "outputs": [
    {
     "data": {
      "application/vnd.jupyter.widget-view+json": {
       "model_id": "677ae95c1a9a4468be4a202f68a43fd2",
       "version_major": 2,
       "version_minor": 0
      },
      "text/plain": [
       "modules.json:   0%|          | 0.00/349 [00:00<?, ?B/s]"
      ]
     },
     "metadata": {},
     "output_type": "display_data"
    },
    {
     "data": {
      "application/vnd.jupyter.widget-view+json": {
       "model_id": "2d8791c7e9384d23bbc325e4b62219ba",
       "version_major": 2,
       "version_minor": 0
      },
      "text/plain": [
       "config_sentence_transformers.json:   0%|          | 0.00/124 [00:00<?, ?B/s]"
      ]
     },
     "metadata": {},
     "output_type": "display_data"
    },
    {
     "data": {
      "application/vnd.jupyter.widget-view+json": {
       "model_id": "9263192c711541ea80d136536728c0ea",
       "version_major": 2,
       "version_minor": 0
      },
      "text/plain": [
       "README.md:   0%|          | 0.00/94.8k [00:00<?, ?B/s]"
      ]
     },
     "metadata": {},
     "output_type": "display_data"
    },
    {
     "data": {
      "application/vnd.jupyter.widget-view+json": {
       "model_id": "921062d7c3734deda00ccd333eca010f",
       "version_major": 2,
       "version_minor": 0
      },
      "text/plain": [
       "sentence_bert_config.json:   0%|          | 0.00/52.0 [00:00<?, ?B/s]"
      ]
     },
     "metadata": {},
     "output_type": "display_data"
    },
    {
     "data": {
      "application/vnd.jupyter.widget-view+json": {
       "model_id": "349ddb77def5477abede88e0be5acd5c",
       "version_major": 2,
       "version_minor": 0
      },
      "text/plain": [
       "config.json:   0%|          | 0.00/743 [00:00<?, ?B/s]"
      ]
     },
     "metadata": {},
     "output_type": "display_data"
    },
    {
     "data": {
      "application/vnd.jupyter.widget-view+json": {
       "model_id": "abe232db432b47918a24896a36bb72ef",
       "version_major": 2,
       "version_minor": 0
      },
      "text/plain": [
       "model.safetensors:   0%|          | 0.00/133M [00:00<?, ?B/s]"
      ]
     },
     "metadata": {},
     "output_type": "display_data"
    },
    {
     "data": {
      "application/vnd.jupyter.widget-view+json": {
       "model_id": "9e5c1aaa6e5d4321af74edbb9ff09bc1",
       "version_major": 2,
       "version_minor": 0
      },
      "text/plain": [
       "config.json:   0%|          | 0.00/190 [00:00<?, ?B/s]"
      ]
     },
     "metadata": {},
     "output_type": "display_data"
    }
   ],
   "source": [
    "import torch\n",
    "from tqdm import tqdm\n",
    "import numpy as np\n",
    "from datasets import load_dataset\n",
    "from sentence_transformers import SentenceTransformer\n",
    "device = torch.device(\"cuda\")\n",
    "model = SentenceTransformer(\"BAAI/bge-small-en-v1.5\")\n",
    "model = model.to(device)"
   ]
  },
  {
   "cell_type": "code",
   "execution_count": 21,
   "id": "b07a973b-92be-4555-ade7-70c23fe9dee9",
   "metadata": {},
   "outputs": [
    {
     "name": "stdout",
     "output_type": "stream",
     "text": [
      "{'input_ids': [5735, 26646, 5735, 26646, 5735, 26646, 2003, 1037, 2934, 1997, 6825, 2012, 1996, 2118, 1997, 3552, 1010, 2040, 2913, 15756, 10595, 10318, 5107, 3496, 10617, 1010, 2724, 10617, 1010, 4874, 5038, 1010, 1998, 13589, 9163, 1999, 4286, 1012, 2010, 6845, 2913, 1996, 2535, 1997, 1996, 11498, 5605, 6873, 26468, 2389, 1998, 22307, 13102, 7770, 4818, 2522, 28228, 9623, 1999, 12515, 2129, 2111, 16865, 3209, 5816, 2000, 2037, 11301, 1012], 'token_type_ids': [0, 0, 0, 0, 0, 0, 0, 0, 0, 0, 0, 0, 0, 0, 0, 0, 0, 0, 0, 0, 0, 0, 0, 0, 0, 0, 0, 0, 0, 0, 0, 0, 0, 0, 0, 0, 0, 0, 0, 0, 0, 0, 0, 0, 0, 0, 0, 0, 0, 0, 0, 0, 0, 0, 0, 0, 0, 0, 0, 0, 0, 0, 0, 0, 0, 0, 0, 0, 0], 'attention_mask': [1, 1, 1, 1, 1, 1, 1, 1, 1, 1, 1, 1, 1, 1, 1, 1, 1, 1, 1, 1, 1, 1, 1, 1, 1, 1, 1, 1, 1, 1, 1, 1, 1, 1, 1, 1, 1, 1, 1, 1, 1, 1, 1, 1, 1, 1, 1, 1, 1, 1, 1, 1, 1, 1, 1, 1, 1, 1, 1, 1, 1, 1, 1, 1, 1, 1, 1, 1, 1]}\n",
      "[-9.13783806e-05 -2.68196929e-02  4.59972490e-03 -3.22340615e-02\n",
      "  5.75126968e-02  7.23974407e-02  9.54371542e-02 -2.10403167e-02\n",
      " -1.42292371e-02 -3.34889768e-03  1.63103305e-02  6.64859731e-03\n",
      " -1.13571025e-02  3.85141298e-02  1.15770455e-02 -1.92588456e-02\n",
      " -3.04437764e-02  2.86425389e-02  8.87463614e-03  2.27244478e-03\n",
      " -5.99678233e-02 -9.07633975e-02 -6.43868297e-02 -1.70417596e-02\n",
      " -3.89047302e-02  7.69049823e-02  5.03165908e-02 -5.38205355e-03\n",
      " -1.25281038e-02 -1.35484636e-01  1.33129843e-02 -1.67052746e-02\n",
      "  1.78560447e-02  2.18800791e-02  5.15698921e-03 -2.82968171e-02\n",
      " -1.57446582e-02 -2.57731229e-02  3.77882123e-02 -1.96508430e-02\n",
      " -2.30475585e-03  2.56779138e-03 -5.10989428e-02 -6.52242154e-02\n",
      "  8.60430393e-03 -1.32555328e-02 -4.45226356e-02 -4.06190231e-02\n",
      " -2.84344256e-02 -6.81519136e-02  2.66688149e-02  4.49395459e-03\n",
      "  1.67281907e-02  3.76030020e-02  1.74370613e-02  4.49648611e-02\n",
      "  3.65533791e-02  5.71378917e-02 -3.76536399e-02  1.31902359e-02\n",
      "  2.71685421e-02  4.64923754e-02 -1.58600867e-01  4.00745198e-02\n",
      "  3.94413918e-02  1.32686989e-02 -7.40931332e-02 -5.45758866e-02\n",
      "  5.91153391e-02 -5.17416233e-03 -7.45609403e-02 -2.63482612e-02\n",
      " -1.85700860e-02  3.78914699e-02  9.02930945e-02 -4.13337722e-02\n",
      " -3.72364670e-02 -6.33771122e-02  5.40360026e-02 -2.41006762e-02\n",
      "  4.15288135e-02  6.69959337e-02 -4.19381000e-02 -2.85286698e-02\n",
      "  2.18268707e-02  4.16782722e-02 -1.73200406e-02 -5.00386581e-02\n",
      "  2.10440140e-02  2.67087743e-02 -1.99183207e-02 -3.39751281e-02\n",
      " -9.11673531e-02  1.16538312e-02  4.69897389e-02  2.08333544e-02\n",
      " -9.93739590e-02 -1.28778191e-02  1.63524412e-02  3.66294980e-01\n",
      " -2.28350442e-02  1.03553638e-01  7.69709274e-02 -1.61352810e-02\n",
      "  1.36385523e-02 -7.47909918e-02  4.71246094e-02 -2.74679717e-03\n",
      " -3.99084426e-02  4.31562327e-02 -2.20188238e-02 -6.54599890e-02\n",
      " -2.74787173e-02  2.18566619e-02  6.44740239e-02  1.75589807e-02\n",
      "  5.60787991e-02  4.32782210e-02  3.06372773e-02 -7.56387860e-02\n",
      " -4.08211835e-02 -3.40235308e-02 -7.43123470e-03  1.87399387e-02\n",
      " -2.66781878e-02 -1.84323490e-02 -2.03029141e-02  1.50754780e-01\n",
      "  4.15500514e-02 -5.94992898e-02  1.90417320e-02 -4.41658050e-02\n",
      " -1.01793610e-01  4.44379076e-02 -1.32471491e-02  2.12947577e-02\n",
      "  1.29465945e-03 -3.43836620e-02  3.02320980e-02 -3.95970326e-03\n",
      "  4.13753651e-02  2.26648916e-02 -4.22636010e-02 -7.33858794e-02\n",
      " -5.74631765e-02  9.11268443e-02 -7.26216659e-03  3.07517573e-02\n",
      " -7.47549674e-03  7.90474005e-03  2.62303208e-03  5.76402002e-04\n",
      " -2.84875389e-02 -5.30827120e-02 -3.26568000e-02  2.63114311e-02\n",
      " -2.05522161e-02  1.63880326e-02  2.37167981e-02  1.82236116e-02\n",
      " -3.31963934e-02 -1.60429776e-02  4.99197245e-02  1.49242371e-01\n",
      "  3.30039151e-02 -1.63041279e-02 -1.31527772e-02 -3.91225070e-02\n",
      "  3.89905572e-02  1.67634571e-03 -2.29097325e-02  5.07806204e-02\n",
      "  7.44561804e-03  4.61574979e-02  3.72982919e-02  9.02494125e-04\n",
      " -6.05013520e-02 -1.94075257e-02  4.55567054e-03  1.17185479e-02\n",
      "  6.35953322e-02 -8.90257880e-02 -3.78638618e-02  2.39243340e-02\n",
      " -1.59026422e-02 -1.52331241e-03  4.55035344e-02 -1.40434252e-02\n",
      " -3.82700749e-02  2.76680477e-02 -3.77260521e-03  6.84504956e-02\n",
      "  2.31268182e-02 -5.70790507e-02 -2.85503231e-02 -5.40381484e-02\n",
      " -5.38056111e-03  6.16320549e-03 -5.50863780e-02 -5.18360771e-02\n",
      " -9.55585018e-03  1.13139842e-02 -6.94652423e-02  2.03868244e-02\n",
      " -1.89184044e-02 -1.54543007e-02 -4.82787099e-03  9.48666856e-02\n",
      "  7.05638304e-02 -2.45600455e-02 -8.50968249e-03  6.49519963e-03\n",
      " -3.10674682e-02 -1.61656793e-02  1.54338768e-02 -6.50400575e-03\n",
      " -1.68501846e-02  3.86787637e-04  1.83708053e-02  1.57596357e-02\n",
      "  1.58398747e-02 -3.10080033e-02 -7.88564086e-02 -3.13255548e-01\n",
      " -4.86652441e-02 -1.88995898e-02 -5.10073602e-02  8.16412736e-03\n",
      " -2.40196716e-02  9.96290892e-03  1.94426365e-02  6.43065348e-02\n",
      "  1.58110578e-02  1.05288047e-02  4.36936729e-02  2.11444078e-03\n",
      " -6.79833367e-02 -1.63091384e-02  1.98523290e-02  2.68959012e-02\n",
      " -4.17882530e-03 -2.39849146e-02 -8.05172604e-03  6.72364756e-02\n",
      "  1.44878933e-02 -4.22287360e-02 -7.31215021e-03  2.18238309e-02\n",
      " -5.56278527e-02  1.06526509e-01  2.25501768e-02  5.76627441e-02\n",
      " -2.11405866e-02 -3.87501568e-02  1.76438689e-02  7.76523501e-02\n",
      " -6.91929981e-02  1.26810297e-02  1.45444460e-02  3.13900039e-02\n",
      "  1.19472230e-02 -3.12038381e-02  4.60899854e-03 -6.64136633e-02\n",
      " -2.17388012e-02  1.36925802e-02 -4.41757999e-02 -4.12829593e-02\n",
      "  1.97287221e-02  7.00912476e-02  5.49271982e-03  4.54182625e-02\n",
      "  2.45837048e-02  8.10388774e-02 -7.70549178e-02  5.95291853e-02\n",
      "  1.08245937e-02 -5.55480272e-02 -2.05071624e-02 -3.14297229e-02\n",
      " -6.69483282e-03 -6.88205138e-02  9.30834413e-02 -1.56707577e-02\n",
      " -2.93246359e-02 -2.24260669e-02  3.41061838e-02  2.23707613e-02\n",
      "  1.49282031e-02 -1.93993952e-02  3.65560763e-02  4.79754731e-02\n",
      " -6.75894925e-03 -5.10685518e-03  9.26631540e-02 -3.07659581e-02\n",
      "  1.83301773e-02  3.41858566e-02 -5.59577420e-02  4.30838503e-02\n",
      " -1.74235075e-03  9.13435780e-03  1.49089266e-02  2.85926163e-02\n",
      " -2.73325928e-02  3.47598866e-02 -3.78472544e-02  6.12542108e-02\n",
      " -2.56735049e-02 -4.51258570e-02 -2.49407999e-02 -2.07525454e-02\n",
      " -3.34634073e-02 -5.22471890e-02 -1.69170611e-02 -7.06592873e-02\n",
      " -3.61760333e-02  1.14597930e-02  3.96478660e-02 -2.23469496e-01\n",
      "  5.13167605e-02 -2.30468903e-02  1.15375379e-02 -5.86290956e-02\n",
      "  2.36454550e-02 -5.31022474e-02 -4.33748625e-02  3.99499834e-02\n",
      " -5.48153520e-02  2.32668798e-02 -2.92847492e-02  8.05293694e-02\n",
      "  4.49680872e-02 -1.57382749e-02  2.87292860e-02  6.65343553e-02\n",
      "  4.11109213e-04  6.55457601e-02  4.10997905e-02  1.37588931e-02\n",
      "  4.38852124e-02  1.17420420e-01  1.04503166e-02 -1.69435679e-03\n",
      "  3.40201035e-02  8.26019887e-03 -2.77324282e-02 -1.74501333e-02\n",
      " -4.73337062e-02  4.48125340e-02  1.11555588e-03 -3.77321728e-02\n",
      " -8.46030004e-03  4.64740172e-02  4.78742272e-02  2.30690893e-02\n",
      "  2.96854898e-02  2.60941498e-02  4.61394491e-04  4.08769324e-02\n",
      "  3.31042297e-02 -1.83819532e-02 -6.38636425e-02  5.28175347e-02\n",
      "  6.81126937e-02 -3.31089390e-03 -3.34306024e-02 -2.79460307e-02\n",
      " -2.26085950e-02 -1.04466397e-02 -2.49311887e-02 -2.73827910e-02\n",
      "  4.83884476e-02 -1.44810965e-02  5.93563467e-02 -5.24243303e-02\n",
      "  1.82431079e-02  1.55774951e-02 -3.35671790e-02  4.63269241e-02\n",
      " -2.73813400e-02  3.46595235e-02  8.99001509e-02  2.52116174e-02]\n"
     ]
    }
   ],
   "source": [
    "text=\"Russell Epstein\\n\\nRussell Epstein\\n\\nRussell Epstein is a professor of psychology at the University of Pennsylvania, who studies neural mechanisms underlying visual scene perception, event perception, object recognition, and spatial navigation in humans. His lab studies the role of the Parahippocampal and retrosplenial cortices in determining how people orient themselves relative to their surroundings.\"\n",
    "print(tokenizer(text, truncation=False, add_special_tokens=False))\n",
    "print(model.encode(text, normalize_embeddings=True,\n",
    "                show_progress_bar=False,))"
   ]
  },
  {
   "cell_type": "code",
   "execution_count": 1,
   "id": "77785de6-2a4b-4dae-a722-f48648832baa",
   "metadata": {},
   "outputs": [
    {
     "data": {
      "application/vnd.jupyter.widget-view+json": {
       "model_id": "d948dca5bedb4cd5a14bbb271e670d56",
       "version_major": 2,
       "version_minor": 0
      },
      "text/plain": [
       "Generating train split: 0 examples [00:00, ? examples/s]"
      ]
     },
     "metadata": {},
     "output_type": "display_data"
    }
   ],
   "source": [
    "from datasets import load_dataset, concatenate_datasets, DatasetDict\n",
    "from huggingface_hub import HfApi, HfFolder\n",
    "\n",
    "# Path to local dataset folders\n",
    "paths = [\n",
    "    \"./pile-stem-corpus-filtered-embedded1\",\n",
    "    #\"./pile-stem-corpus-filtered-embedded2\",\n",
    "    # \"./pile-stem-corpus-filtered-embedded3\",\n",
    "    # \"./pile-stem-corpus-filtered-embedded4\",\n",
    "]\n",
    "\n",
    "# Load datasets (assuming a 'train' split in each folder)\n",
    "datasets = [\n",
    "    load_dataset(\"arrow\", data_files={\"train\": f\"{path}/*.arrow\"})[\"train\"]\n",
    "    for path in paths\n",
    "]\n"
   ]
  },
  {
   "cell_type": "code",
   "execution_count": 3,
   "id": "e273f8f2-5f68-4181-9b6c-29617b4aa937",
   "metadata": {},
   "outputs": [
    {
     "data": {
      "application/vnd.jupyter.widget-view+json": {
       "model_id": "2a610a43077d4b73bd2adf5eaf3a20ec",
       "version_major": 2,
       "version_minor": 0
      },
      "text/plain": [
       "Uploading the dataset shards:   0%|          | 0/4 [00:00<?, ?it/s]"
      ]
     },
     "metadata": {},
     "output_type": "display_data"
    },
    {
     "data": {
      "application/vnd.jupyter.widget-view+json": {
       "model_id": "cdebc89a19174d07a9a7824b3f55fd33",
       "version_major": 2,
       "version_minor": 0
      },
      "text/plain": [
       "Creating parquet from Arrow format:   0%|          | 0/125 [00:00<?, ?ba/s]"
      ]
     },
     "metadata": {},
     "output_type": "display_data"
    },
    {
     "data": {
      "application/vnd.jupyter.widget-view+json": {
       "model_id": "d7d86dec35cd41d78b5b492a1810f393",
       "version_major": 2,
       "version_minor": 0
      },
      "text/plain": [
       "Creating parquet from Arrow format:   0%|          | 0/125 [00:00<?, ?ba/s]"
      ]
     },
     "metadata": {},
     "output_type": "display_data"
    },
    {
     "data": {
      "application/vnd.jupyter.widget-view+json": {
       "model_id": "43a04f513ccf4168acd3b71ede8eb6fd",
       "version_major": 2,
       "version_minor": 0
      },
      "text/plain": [
       "Creating parquet from Arrow format:   0%|          | 0/125 [00:00<?, ?ba/s]"
      ]
     },
     "metadata": {},
     "output_type": "display_data"
    },
    {
     "data": {
      "application/vnd.jupyter.widget-view+json": {
       "model_id": "1cee3c11276c4bc8967ac42d0d058bdc",
       "version_major": 2,
       "version_minor": 0
      },
      "text/plain": [
       "Creating parquet from Arrow format:   0%|          | 0/125 [00:00<?, ?ba/s]"
      ]
     },
     "metadata": {},
     "output_type": "display_data"
    },
    {
     "data": {
      "application/vnd.jupyter.widget-view+json": {
       "model_id": "e0dc824454d0489e9d81aa90d169c136",
       "version_major": 2,
       "version_minor": 0
      },
      "text/plain": [
       "README.md:   0%|          | 0.00/363 [00:00<?, ?B/s]"
      ]
     },
     "metadata": {},
     "output_type": "display_data"
    },
    {
     "data": {
      "text/plain": [
       "CommitInfo(commit_url='https://huggingface.co/datasets/igzi/pile-stem-embeddings/commit/9fce2e9188f6e32d669ee302b1703138d80a5e1b', commit_message='Upload dataset', commit_description='', oid='9fce2e9188f6e32d669ee302b1703138d80a5e1b', pr_url=None, repo_url=RepoUrl('https://huggingface.co/datasets/igzi/pile-stem-embeddings', endpoint='https://huggingface.co', repo_type='dataset', repo_id='igzi/pile-stem-embeddings'), pr_revision=None, pr_num=None)"
      ]
     },
     "execution_count": 3,
     "metadata": {},
     "output_type": "execute_result"
    }
   ],
   "source": [
    "# Combine and push\n",
    "combined = concatenate_datasets(datasets)\n",
    "DatasetDict({\"train\": combined}).push_to_hub(\"igzi/pile-stem-embeddings\")"
   ]
  },
  {
   "cell_type": "code",
   "execution_count": null,
   "id": "d4b09835-eb93-45f2-881e-dea895a2a903",
   "metadata": {},
   "outputs": [],
   "source": []
  }
 ],
 "metadata": {
  "kernelspec": {
   "display_name": "MLNP Project",
   "language": "python",
   "name": "mnlp_m2"
  },
  "language_info": {
   "codemirror_mode": {
    "name": "ipython",
    "version": 3
   },
   "file_extension": ".py",
   "mimetype": "text/x-python",
   "name": "python",
   "nbconvert_exporter": "python",
   "pygments_lexer": "ipython3",
   "version": "3.12.8"
  }
 },
 "nbformat": 4,
 "nbformat_minor": 5
}

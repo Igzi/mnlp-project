{
 "cells": [
  {
   "cell_type": "code",
   "execution_count": 12,
   "id": "02af4821-7f16-4a9e-a5b6-a3d014e82375",
   "metadata": {},
   "outputs": [
    {
     "name": "stdout",
     "output_type": "stream",
     "text": [
      "Fallback Answer Distribution:\n",
      "A: pred-279, gt-46\n",
      "B: pred-154, gt-53\n",
      "C: pred-40, gt-57\n",
      "D: pred-13, gt-63\n",
      "E: pred-2, gt-45\n",
      "F: pred-5, gt-44\n",
      "G: pred-1, gt-58\n",
      "H: pred-6, gt-48\n",
      "I: pred-0, gt-49\n",
      "J: pred-7, gt-44\n",
      "\n",
      "Total fallbacks: 507 out of 1351 examples\n"
     ]
    }
   ],
   "source": [
    "import json\n",
    "from collections import Counter\n",
    "\n",
    "SPLIT = \"test\"  # or whatever split you used in the original run\n",
    "RESULTS_FILE = f\"qwen3_cot_mmlu_pro_stem_{SPLIT}_results.json\"\n",
    "\n",
    "# Load results\n",
    "with open(RESULTS_FILE, \"r\") as f:\n",
    "    results = json.load(f)\n",
    "\n",
    "# Extract fallback predictions (only those where fallback_pred is present)\n",
    "fallback_preds = [res[\"fallback_pred\"] for res in results if \"fallback_pred\" in res]\n",
    "fallback_gt = [res[\"gt\"] for res in results if \"fallback_pred\" in res]\n",
    "\n",
    "# Count distribution\n",
    "dist = Counter(fallback_preds)\n",
    "dist_gt = Counter(fallback_gt)\n",
    "\n",
    "# Print the distribution\n",
    "print(\"Fallback Answer Distribution:\")\n",
    "for letter in \"ABCDEFGHIJ\":\n",
    "    print(f\"{letter}: pred-{dist.get(letter, 0)}, gt-{dist_gt.get(letter, 0)}\")\n",
    "\n",
    "print(f\"\\nTotal fallbacks: {len(fallback_preds)} out of {len(results)} examples\")\n"
   ]
  },
  {
   "cell_type": "code",
   "execution_count": 2,
   "id": "51f1c41b-a1d2-4d8e-905f-bf7abaaa6a63",
   "metadata": {},
   "outputs": [
    {
     "name": "stdout",
     "output_type": "stream",
     "text": [
      "Fallback Answer Distribution:\n",
      "A: 128\n",
      "B: 270\n",
      "C: 125\n",
      "D: 210\n",
      "E: 0\n",
      "F: 0\n",
      "G: 0\n",
      "H: 0\n",
      "I: 0\n",
      "J: 0\n",
      "\n",
      "Total fallbacks: 733 out of 3153 examples\n"
     ]
    }
   ],
   "source": [
    "import json\n",
    "from collections import Counter\n",
    "\n",
    "SPLIT = \"test\"  # or whatever split you used in the original run\n",
    "RESULTS_FILE = f\"qwen3_cot_mmlu_stem_{SPLIT}_results.json\"\n",
    "\n",
    "# Load results\n",
    "with open(RESULTS_FILE, \"r\") as f:\n",
    "    results = json.load(f)\n",
    "\n",
    "# Extract fallback predictions (only those where fallback_pred is present)\n",
    "fallback_preds = [res[\"fallback_pred\"] for res in results if \"fallback_pred\" in res]\n",
    "\n",
    "# Count distribution\n",
    "dist = Counter(fallback_preds)\n",
    "\n",
    "# Print the distribution\n",
    "print(\"Fallback Answer Distribution:\")\n",
    "for letter in \"ABCDEFGHIJ\":\n",
    "    print(f\"{letter}: {dist.get(letter, 0)}\")\n",
    "\n",
    "print(f\"\\nTotal fallbacks: {len(fallback_preds)} out of {len(results)} examples\")"
   ]
  },
  {
   "cell_type": "code",
   "execution_count": 11,
   "id": "a2ca7c39-b931-4caf-8d0b-6ccbe8d4159d",
   "metadata": {},
   "outputs": [
    {
     "name": "stdout",
     "output_type": "stream",
     "text": [
      "Fallback Answer Distribution:\n",
      "A: pred-197, gt-136\n",
      "B: pred-177, gt-173\n",
      "C: pred-70, gt-108\n",
      "D: pred-48, gt-75\n",
      "E: pred-0, gt-0\n",
      "F: pred-0, gt-0\n",
      "G: pred-0, gt-0\n",
      "H: pred-0, gt-0\n",
      "I: pred-0, gt-0\n",
      "J: pred-0, gt-0\n",
      "\n",
      "Total fallbacks: 492 out of 2558 examples\n"
     ]
    }
   ],
   "source": [
    "import json\n",
    "from collections import Counter\n",
    "\n",
    "SPLIT = \"train\"  # or whatever split you used in the original run\n",
    "RESULTS_FILE = f\"qwen3_cot_nlp4edu_{SPLIT}_results.json\"\n",
    "\n",
    "# Load results\n",
    "with open(RESULTS_FILE, \"r\") as f:\n",
    "    results = json.load(f)\n",
    "\n",
    "# Extract fallback predictions (only those where fallback_pred is present)\n",
    "fallback_preds = [res[\"fallback_pred\"] for res in results if \"fallback_pred\" in res]\n",
    "fallback_gt = [res[\"gt\"] for res in results if \"fallback_pred\" in res]\n",
    "\n",
    "# Count distribution\n",
    "dist = Counter(fallback_preds)\n",
    "dist_gt = Counter(fallback_gt)\n",
    "\n",
    "# Print the distribution\n",
    "print(\"Fallback Answer Distribution:\")\n",
    "for letter in \"ABCDEFGHIJ\":\n",
    "    print(f\"{letter}: pred-{dist.get(letter, 0)}, gt-{dist_gt.get(letter, 0)}\")\n",
    "\n",
    "print(f\"\\nTotal fallbacks: {len(fallback_preds)} out of {len(results)} examples\")"
   ]
  },
  {
   "cell_type": "code",
   "execution_count": 13,
   "id": "f102b499-f9d1-4495-baf5-2e0273199390",
   "metadata": {},
   "outputs": [
    {
     "name": "stdout",
     "output_type": "stream",
     "text": [
      "Fallback Answer Distribution:\n",
      "A: pred-56, gt-39\n",
      "B: pred-72, gt-47\n",
      "C: pred-15, gt-38\n",
      "D: pred-17, gt-36\n",
      "E: pred-0, gt-0\n",
      "F: pred-0, gt-0\n",
      "G: pred-0, gt-0\n",
      "H: pred-0, gt-0\n",
      "I: pred-0, gt-0\n",
      "J: pred-0, gt-0\n",
      "\n",
      "Total fallbacks: 160 out of 448 examples\n"
     ]
    }
   ],
   "source": [
    "import json\n",
    "from collections import Counter\n",
    "\n",
    "SPLIT = \"train\"  # or whatever split you used in the original run\n",
    "RESULTS_FILE = f\"qwen3_cot_gpqa_{SPLIT}_results.json\"\n",
    "\n",
    "# Load results\n",
    "with open(RESULTS_FILE, \"r\") as f:\n",
    "    results = json.load(f)\n",
    "\n",
    "# Extract fallback predictions (only those where fallback_pred is present)\n",
    "fallback_preds = [res[\"fallback_pred\"] for res in results if \"fallback_pred\" in res]\n",
    "fallback_gt = [res[\"gt\"] for res in results if \"fallback_pred\" in res]\n",
    "\n",
    "# Count distribution\n",
    "dist = Counter(fallback_preds)\n",
    "dist_gt = Counter(fallback_gt)\n",
    "\n",
    "# Print the distribution\n",
    "print(\"Fallback Answer Distribution:\")\n",
    "for letter in \"ABCDEFGHIJ\":\n",
    "    print(f\"{letter}: pred-{dist.get(letter, 0)}, gt-{dist_gt.get(letter, 0)}\")\n",
    "\n",
    "print(f\"\\nTotal fallbacks: {len(fallback_preds)} out of {len(results)} examples\")"
   ]
  },
  {
   "cell_type": "code",
   "execution_count": 9,
   "id": "b9d4cae1-23ac-4978-b4f7-1ecca274552d",
   "metadata": {},
   "outputs": [
    {
     "name": "stdout",
     "output_type": "stream",
     "text": [
      "Fallback Answer Distribution:\n",
      "A: 125\n",
      "B: 168\n",
      "C: 150\n",
      "D: 138\n",
      "E: 0\n",
      "F: 0\n",
      "G: 0\n",
      "H: 0\n",
      "I: 0\n",
      "J: 0\n",
      "\n",
      "Total fallbacks: 581 out of 2376 examples\n"
     ]
    }
   ],
   "source": [
    "import json\n",
    "from collections import Counter\n",
    "\n",
    "SPLIT = \"test\"  # or whatever split you used in the original run\n",
    "RESULTS_FILE = f\"qwen3_cot_arc_easy_{SPLIT}_results.json\"\n",
    "\n",
    "# Load results\n",
    "with open(RESULTS_FILE, \"r\") as f:\n",
    "    results = json.load(f)\n",
    "\n",
    "# Extract fallback predictions (only those where fallback_pred is present)\n",
    "fallback_preds = [res[\"fallback_pred\"] for res in results if \"fallback_pred\" in res]\n",
    "\n",
    "# Count distribution\n",
    "dist = Counter(fallback_preds)\n",
    "\n",
    "# Print the distribution\n",
    "print(\"Fallback Answer Distribution:\")\n",
    "for letter in \"ABCDEFGHIJ\":\n",
    "    print(f\"{letter}: {dist.get(letter, 0)}\")\n",
    "\n",
    "print(f\"\\nTotal fallbacks: {len(fallback_preds)} out of {len(results)} examples\")"
   ]
  },
  {
   "cell_type": "code",
   "execution_count": 10,
   "id": "49a6c4b4-8921-4f62-98cb-ec03bd8f9e84",
   "metadata": {},
   "outputs": [
    {
     "name": "stdout",
     "output_type": "stream",
     "text": [
      "Fallback Answer Distribution:\n",
      "A: 28\n",
      "B: 79\n",
      "C: 55\n",
      "D: 66\n",
      "E: 0\n",
      "F: 0\n",
      "G: 0\n",
      "H: 0\n",
      "I: 0\n",
      "J: 0\n",
      "\n",
      "Total fallbacks: 228 out of 1172 examples\n"
     ]
    }
   ],
   "source": [
    "import json\n",
    "from collections import Counter\n",
    "\n",
    "SPLIT = \"test\"  # or whatever split you used in the original run\n",
    "RESULTS_FILE = f\"qwen3_cot_arc_challenge_{SPLIT}_results.json\"\n",
    "\n",
    "# Load results\n",
    "with open(RESULTS_FILE, \"r\") as f:\n",
    "    results = json.load(f)\n",
    "\n",
    "# Extract fallback predictions (only those where fallback_pred is present)\n",
    "fallback_preds = [res[\"fallback_pred\"] for res in results if \"fallback_pred\" in res]\n",
    "\n",
    "# Count distribution\n",
    "dist = Counter(fallback_preds)\n",
    "\n",
    "# Print the distribution\n",
    "print(\"Fallback Answer Distribution:\")\n",
    "for letter in \"ABCDEFGHIJ\":\n",
    "    print(f\"{letter}: {dist.get(letter, 0)}\")\n",
    "\n",
    "print(f\"\\nTotal fallbacks: {len(fallback_preds)} out of {len(results)} examples\")"
   ]
  },
  {
   "cell_type": "code",
   "execution_count": null,
   "id": "ff7097cc-8dbc-4585-b4a5-0592665c13f4",
   "metadata": {},
   "outputs": [],
   "source": []
  }
 ],
 "metadata": {
  "kernelspec": {
   "display_name": "MLNP Project",
   "language": "python",
   "name": "mnlp_m2"
  },
  "language_info": {
   "codemirror_mode": {
    "name": "ipython",
    "version": 3
   },
   "file_extension": ".py",
   "mimetype": "text/x-python",
   "name": "python",
   "nbconvert_exporter": "python",
   "pygments_lexer": "ipython3",
   "version": "3.12.8"
  }
 },
 "nbformat": 4,
 "nbformat_minor": 5
}
